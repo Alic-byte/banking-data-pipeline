{
 "cells": [
  {
   "cell_type": "code",
   "execution_count": 1,
   "id": "62a772b9-ba66-4f91-a399-3a6a9a11a582",
   "metadata": {},
   "outputs": [],
   "source": [
    "# 1. Uploading data"
   ]
  },
  {
   "cell_type": "code",
   "execution_count": 2,
   "id": "17ede3ae-8873-4913-8753-137edc9f1c56",
   "metadata": {},
   "outputs": [],
   "source": [
    "import pandas as pd\n",
    "import numpy as np"
   ]
  },
  {
   "cell_type": "code",
   "execution_count": 3,
   "id": "aa001d1d-41e9-4627-ab13-3da834ecc022",
   "metadata": {},
   "outputs": [
    {
     "data": {
      "text/html": [
       "<div>\n",
       "<style scoped>\n",
       "    .dataframe tbody tr th:only-of-type {\n",
       "        vertical-align: middle;\n",
       "    }\n",
       "\n",
       "    .dataframe tbody tr th {\n",
       "        vertical-align: top;\n",
       "    }\n",
       "\n",
       "    .dataframe thead th {\n",
       "        text-align: right;\n",
       "    }\n",
       "</style>\n",
       "<table border=\"1\" class=\"dataframe\">\n",
       "  <thead>\n",
       "    <tr style=\"text-align: right;\">\n",
       "      <th></th>\n",
       "      <th>transaction_id</th>\n",
       "      <th>customer_id</th>\n",
       "      <th>transaction_date</th>\n",
       "      <th>transaction_type</th>\n",
       "      <th>amount</th>\n",
       "      <th>status</th>\n",
       "    </tr>\n",
       "  </thead>\n",
       "  <tbody>\n",
       "    <tr>\n",
       "      <th>0</th>\n",
       "      <td>1</td>\n",
       "      <td>101.0</td>\n",
       "      <td>2025-07-01</td>\n",
       "      <td>deposit</td>\n",
       "      <td>500.0</td>\n",
       "      <td>completed</td>\n",
       "    </tr>\n",
       "    <tr>\n",
       "      <th>1</th>\n",
       "      <td>2</td>\n",
       "      <td>102.0</td>\n",
       "      <td>2025-07-01</td>\n",
       "      <td>withdrawal</td>\n",
       "      <td>200.0</td>\n",
       "      <td>completed</td>\n",
       "    </tr>\n",
       "    <tr>\n",
       "      <th>2</th>\n",
       "      <td>3</td>\n",
       "      <td>103.0</td>\n",
       "      <td>2025-07-02</td>\n",
       "      <td>deposit</td>\n",
       "      <td>1500.0</td>\n",
       "      <td>completed</td>\n",
       "    </tr>\n",
       "    <tr>\n",
       "      <th>3</th>\n",
       "      <td>4</td>\n",
       "      <td>101.0</td>\n",
       "      <td>2025-07-02</td>\n",
       "      <td>withdrawal</td>\n",
       "      <td>100.0</td>\n",
       "      <td>failed</td>\n",
       "    </tr>\n",
       "    <tr>\n",
       "      <th>4</th>\n",
       "      <td>5</td>\n",
       "      <td>104.0</td>\n",
       "      <td>2025-07-03</td>\n",
       "      <td>deposit</td>\n",
       "      <td>2500.0</td>\n",
       "      <td>completed</td>\n",
       "    </tr>\n",
       "    <tr>\n",
       "      <th>5</th>\n",
       "      <td>6</td>\n",
       "      <td>102.0</td>\n",
       "      <td>2025-07-04</td>\n",
       "      <td>withdrawal</td>\n",
       "      <td>800.0</td>\n",
       "      <td>completed</td>\n",
       "    </tr>\n",
       "    <tr>\n",
       "      <th>6</th>\n",
       "      <td>7</td>\n",
       "      <td>105.0</td>\n",
       "      <td>2025-07-05</td>\n",
       "      <td>deposit</td>\n",
       "      <td>1000.0</td>\n",
       "      <td>completed</td>\n",
       "    </tr>\n",
       "    <tr>\n",
       "      <th>7</th>\n",
       "      <td>8</td>\n",
       "      <td>101.0</td>\n",
       "      <td>2025-07-06</td>\n",
       "      <td>deposit</td>\n",
       "      <td>2000.0</td>\n",
       "      <td>completed</td>\n",
       "    </tr>\n",
       "    <tr>\n",
       "      <th>8</th>\n",
       "      <td>9</td>\n",
       "      <td>103.0</td>\n",
       "      <td>2025-07-06</td>\n",
       "      <td>withdrawal</td>\n",
       "      <td>300.0</td>\n",
       "      <td>completed</td>\n",
       "    </tr>\n",
       "    <tr>\n",
       "      <th>9</th>\n",
       "      <td>10</td>\n",
       "      <td>104.0</td>\n",
       "      <td>2025-07-07</td>\n",
       "      <td>withdrawal</td>\n",
       "      <td>1200.0</td>\n",
       "      <td>failed</td>\n",
       "    </tr>\n",
       "    <tr>\n",
       "      <th>10</th>\n",
       "      <td>11</td>\n",
       "      <td>106.0</td>\n",
       "      <td>2025-07-08</td>\n",
       "      <td>deposit</td>\n",
       "      <td>100.0</td>\n",
       "      <td>completed</td>\n",
       "    </tr>\n",
       "    <tr>\n",
       "      <th>11</th>\n",
       "      <td>12</td>\n",
       "      <td>107.0</td>\n",
       "      <td>2025-07-09</td>\n",
       "      <td>deposit</td>\n",
       "      <td>NaN</td>\n",
       "      <td>completed</td>\n",
       "    </tr>\n",
       "    <tr>\n",
       "      <th>12</th>\n",
       "      <td>13</td>\n",
       "      <td>108.0</td>\n",
       "      <td>NaN</td>\n",
       "      <td>withdrawal</td>\n",
       "      <td>1500.0</td>\n",
       "      <td>completed</td>\n",
       "    </tr>\n",
       "    <tr>\n",
       "      <th>13</th>\n",
       "      <td>14</td>\n",
       "      <td>109.0</td>\n",
       "      <td>2025-07-10</td>\n",
       "      <td>deposit</td>\n",
       "      <td>800.0</td>\n",
       "      <td>completed</td>\n",
       "    </tr>\n",
       "    <tr>\n",
       "      <th>14</th>\n",
       "      <td>15</td>\n",
       "      <td>NaN</td>\n",
       "      <td>2025-07-10</td>\n",
       "      <td>withdrawal</td>\n",
       "      <td>500.0</td>\n",
       "      <td>completed</td>\n",
       "    </tr>\n",
       "    <tr>\n",
       "      <th>15</th>\n",
       "      <td>16</td>\n",
       "      <td>110.0</td>\n",
       "      <td>07/11/2025</td>\n",
       "      <td>deposit</td>\n",
       "      <td>2000.0</td>\n",
       "      <td>completed</td>\n",
       "    </tr>\n",
       "    <tr>\n",
       "      <th>16</th>\n",
       "      <td>17</td>\n",
       "      <td>101.0</td>\n",
       "      <td>2025-07-12</td>\n",
       "      <td>deposit</td>\n",
       "      <td>-500.0</td>\n",
       "      <td>completed</td>\n",
       "    </tr>\n",
       "    <tr>\n",
       "      <th>17</th>\n",
       "      <td>18</td>\n",
       "      <td>102.0</td>\n",
       "      <td>2025-07-13</td>\n",
       "      <td>withdrawal</td>\n",
       "      <td>300.0</td>\n",
       "      <td>completed</td>\n",
       "    </tr>\n",
       "    <tr>\n",
       "      <th>18</th>\n",
       "      <td>19</td>\n",
       "      <td>103.0</td>\n",
       "      <td>2025-07-14</td>\n",
       "      <td>deposit</td>\n",
       "      <td>400.0</td>\n",
       "      <td>completed</td>\n",
       "    </tr>\n",
       "    <tr>\n",
       "      <th>19</th>\n",
       "      <td>20</td>\n",
       "      <td>105.0</td>\n",
       "      <td>2025-07-15</td>\n",
       "      <td>deposit</td>\n",
       "      <td>600.0</td>\n",
       "      <td>failed</td>\n",
       "    </tr>\n",
       "  </tbody>\n",
       "</table>\n",
       "</div>"
      ],
      "text/plain": [
       "    transaction_id  customer_id transaction_date transaction_type  amount  \\\n",
       "0                1        101.0       2025-07-01          deposit   500.0   \n",
       "1                2        102.0       2025-07-01       withdrawal   200.0   \n",
       "2                3        103.0       2025-07-02          deposit  1500.0   \n",
       "3                4        101.0       2025-07-02       withdrawal   100.0   \n",
       "4                5        104.0       2025-07-03          deposit  2500.0   \n",
       "5                6        102.0       2025-07-04       withdrawal   800.0   \n",
       "6                7        105.0       2025-07-05          deposit  1000.0   \n",
       "7                8        101.0       2025-07-06          deposit  2000.0   \n",
       "8                9        103.0       2025-07-06       withdrawal   300.0   \n",
       "9               10        104.0       2025-07-07       withdrawal  1200.0   \n",
       "10              11        106.0       2025-07-08          deposit   100.0   \n",
       "11              12        107.0       2025-07-09          deposit     NaN   \n",
       "12              13        108.0              NaN       withdrawal  1500.0   \n",
       "13              14        109.0       2025-07-10          deposit   800.0   \n",
       "14              15          NaN       2025-07-10       withdrawal   500.0   \n",
       "15              16        110.0       07/11/2025          deposit  2000.0   \n",
       "16              17        101.0       2025-07-12          deposit  -500.0   \n",
       "17              18        102.0       2025-07-13       withdrawal   300.0   \n",
       "18              19        103.0       2025-07-14          deposit   400.0   \n",
       "19              20        105.0       2025-07-15          deposit   600.0   \n",
       "\n",
       "         status  \n",
       "0     completed  \n",
       "1     completed  \n",
       "2     completed  \n",
       "3        failed  \n",
       "4     completed  \n",
       "5     completed  \n",
       "6     completed  \n",
       "7     completed  \n",
       "8     completed  \n",
       "9        failed  \n",
       "10    completed  \n",
       "11  completed    \n",
       "12  completed    \n",
       "13    completed  \n",
       "14    completed  \n",
       "15    completed  \n",
       "16    completed  \n",
       "17    completed  \n",
       "18    completed  \n",
       "19       failed  "
      ]
     },
     "execution_count": 3,
     "metadata": {},
     "output_type": "execute_result"
    }
   ],
   "source": [
    "df_bank_transactions = pd.read_csv(r'C:\\Users\\Admin\\Desktop\\bank_transactions.csv', sep=',')\n",
    "df_bank_transactions"
   ]
  },
  {
   "cell_type": "code",
   "execution_count": 4,
   "id": "f841d01a-8e39-4888-a54d-95280cc4fcc6",
   "metadata": {},
   "outputs": [
    {
     "name": "stdout",
     "output_type": "stream",
     "text": [
      "Number of rows: 20\n"
     ]
    }
   ],
   "source": [
    "row_count = len(df_bank_transactions)\n",
    "print(f\"Number of rows: {row_count}\")"
   ]
  },
  {
   "cell_type": "code",
   "execution_count": 5,
   "id": "679f3877-df86-432c-a1ac-8995ed5914f0",
   "metadata": {},
   "outputs": [],
   "source": [
    "# 2. Cleaning data"
   ]
  },
  {
   "cell_type": "code",
   "execution_count": 6,
   "id": "1c298df9-0aa0-49c9-acc7-c96050100e71",
   "metadata": {},
   "outputs": [
    {
     "name": "stdout",
     "output_type": "stream",
     "text": [
      "transaction_id      0\n",
      "customer_id         1\n",
      "transaction_date    1\n",
      "transaction_type    0\n",
      "amount              1\n",
      "status              0\n",
      "dtype: int64\n"
     ]
    }
   ],
   "source": [
    "# I need to find out how many missing numbers are in each column using isnull()\n",
    "print(df_bank_transactions.isnull().sum())"
   ]
  },
  {
   "cell_type": "code",
   "execution_count": 7,
   "id": "11851aa7-e6f3-4e5d-8586-6f6d1265ba27",
   "metadata": {},
   "outputs": [
    {
     "data": {
      "text/html": [
       "<div>\n",
       "<style scoped>\n",
       "    .dataframe tbody tr th:only-of-type {\n",
       "        vertical-align: middle;\n",
       "    }\n",
       "\n",
       "    .dataframe tbody tr th {\n",
       "        vertical-align: top;\n",
       "    }\n",
       "\n",
       "    .dataframe thead th {\n",
       "        text-align: right;\n",
       "    }\n",
       "</style>\n",
       "<table border=\"1\" class=\"dataframe\">\n",
       "  <thead>\n",
       "    <tr style=\"text-align: right;\">\n",
       "      <th></th>\n",
       "      <th>transaction_id</th>\n",
       "      <th>customer_id</th>\n",
       "      <th>transaction_date</th>\n",
       "      <th>transaction_type</th>\n",
       "      <th>amount</th>\n",
       "      <th>status</th>\n",
       "    </tr>\n",
       "  </thead>\n",
       "  <tbody>\n",
       "    <tr>\n",
       "      <th>0</th>\n",
       "      <td>1</td>\n",
       "      <td>101.0</td>\n",
       "      <td>2025-07-01</td>\n",
       "      <td>deposit</td>\n",
       "      <td>500.0</td>\n",
       "      <td>completed</td>\n",
       "    </tr>\n",
       "    <tr>\n",
       "      <th>1</th>\n",
       "      <td>2</td>\n",
       "      <td>102.0</td>\n",
       "      <td>2025-07-01</td>\n",
       "      <td>withdrawal</td>\n",
       "      <td>200.0</td>\n",
       "      <td>completed</td>\n",
       "    </tr>\n",
       "    <tr>\n",
       "      <th>2</th>\n",
       "      <td>3</td>\n",
       "      <td>103.0</td>\n",
       "      <td>2025-07-02</td>\n",
       "      <td>deposit</td>\n",
       "      <td>1500.0</td>\n",
       "      <td>completed</td>\n",
       "    </tr>\n",
       "    <tr>\n",
       "      <th>3</th>\n",
       "      <td>4</td>\n",
       "      <td>101.0</td>\n",
       "      <td>2025-07-02</td>\n",
       "      <td>withdrawal</td>\n",
       "      <td>100.0</td>\n",
       "      <td>failed</td>\n",
       "    </tr>\n",
       "    <tr>\n",
       "      <th>4</th>\n",
       "      <td>5</td>\n",
       "      <td>104.0</td>\n",
       "      <td>2025-07-03</td>\n",
       "      <td>deposit</td>\n",
       "      <td>2500.0</td>\n",
       "      <td>completed</td>\n",
       "    </tr>\n",
       "    <tr>\n",
       "      <th>5</th>\n",
       "      <td>6</td>\n",
       "      <td>102.0</td>\n",
       "      <td>2025-07-04</td>\n",
       "      <td>withdrawal</td>\n",
       "      <td>800.0</td>\n",
       "      <td>completed</td>\n",
       "    </tr>\n",
       "    <tr>\n",
       "      <th>6</th>\n",
       "      <td>7</td>\n",
       "      <td>105.0</td>\n",
       "      <td>2025-07-05</td>\n",
       "      <td>deposit</td>\n",
       "      <td>1000.0</td>\n",
       "      <td>completed</td>\n",
       "    </tr>\n",
       "    <tr>\n",
       "      <th>7</th>\n",
       "      <td>8</td>\n",
       "      <td>101.0</td>\n",
       "      <td>2025-07-06</td>\n",
       "      <td>deposit</td>\n",
       "      <td>2000.0</td>\n",
       "      <td>completed</td>\n",
       "    </tr>\n",
       "    <tr>\n",
       "      <th>8</th>\n",
       "      <td>9</td>\n",
       "      <td>103.0</td>\n",
       "      <td>2025-07-06</td>\n",
       "      <td>withdrawal</td>\n",
       "      <td>300.0</td>\n",
       "      <td>completed</td>\n",
       "    </tr>\n",
       "    <tr>\n",
       "      <th>9</th>\n",
       "      <td>10</td>\n",
       "      <td>104.0</td>\n",
       "      <td>2025-07-07</td>\n",
       "      <td>withdrawal</td>\n",
       "      <td>1200.0</td>\n",
       "      <td>failed</td>\n",
       "    </tr>\n",
       "    <tr>\n",
       "      <th>10</th>\n",
       "      <td>11</td>\n",
       "      <td>106.0</td>\n",
       "      <td>2025-07-08</td>\n",
       "      <td>deposit</td>\n",
       "      <td>100.0</td>\n",
       "      <td>completed</td>\n",
       "    </tr>\n",
       "    <tr>\n",
       "      <th>13</th>\n",
       "      <td>14</td>\n",
       "      <td>109.0</td>\n",
       "      <td>2025-07-10</td>\n",
       "      <td>deposit</td>\n",
       "      <td>800.0</td>\n",
       "      <td>completed</td>\n",
       "    </tr>\n",
       "    <tr>\n",
       "      <th>15</th>\n",
       "      <td>16</td>\n",
       "      <td>110.0</td>\n",
       "      <td>07/11/2025</td>\n",
       "      <td>deposit</td>\n",
       "      <td>2000.0</td>\n",
       "      <td>completed</td>\n",
       "    </tr>\n",
       "    <tr>\n",
       "      <th>16</th>\n",
       "      <td>17</td>\n",
       "      <td>101.0</td>\n",
       "      <td>2025-07-12</td>\n",
       "      <td>deposit</td>\n",
       "      <td>-500.0</td>\n",
       "      <td>completed</td>\n",
       "    </tr>\n",
       "    <tr>\n",
       "      <th>17</th>\n",
       "      <td>18</td>\n",
       "      <td>102.0</td>\n",
       "      <td>2025-07-13</td>\n",
       "      <td>withdrawal</td>\n",
       "      <td>300.0</td>\n",
       "      <td>completed</td>\n",
       "    </tr>\n",
       "    <tr>\n",
       "      <th>18</th>\n",
       "      <td>19</td>\n",
       "      <td>103.0</td>\n",
       "      <td>2025-07-14</td>\n",
       "      <td>deposit</td>\n",
       "      <td>400.0</td>\n",
       "      <td>completed</td>\n",
       "    </tr>\n",
       "    <tr>\n",
       "      <th>19</th>\n",
       "      <td>20</td>\n",
       "      <td>105.0</td>\n",
       "      <td>2025-07-15</td>\n",
       "      <td>deposit</td>\n",
       "      <td>600.0</td>\n",
       "      <td>failed</td>\n",
       "    </tr>\n",
       "  </tbody>\n",
       "</table>\n",
       "</div>"
      ],
      "text/plain": [
       "    transaction_id  customer_id transaction_date transaction_type  amount  \\\n",
       "0                1        101.0       2025-07-01          deposit   500.0   \n",
       "1                2        102.0       2025-07-01       withdrawal   200.0   \n",
       "2                3        103.0       2025-07-02          deposit  1500.0   \n",
       "3                4        101.0       2025-07-02       withdrawal   100.0   \n",
       "4                5        104.0       2025-07-03          deposit  2500.0   \n",
       "5                6        102.0       2025-07-04       withdrawal   800.0   \n",
       "6                7        105.0       2025-07-05          deposit  1000.0   \n",
       "7                8        101.0       2025-07-06          deposit  2000.0   \n",
       "8                9        103.0       2025-07-06       withdrawal   300.0   \n",
       "9               10        104.0       2025-07-07       withdrawal  1200.0   \n",
       "10              11        106.0       2025-07-08          deposit   100.0   \n",
       "13              14        109.0       2025-07-10          deposit   800.0   \n",
       "15              16        110.0       07/11/2025          deposit  2000.0   \n",
       "16              17        101.0       2025-07-12          deposit  -500.0   \n",
       "17              18        102.0       2025-07-13       withdrawal   300.0   \n",
       "18              19        103.0       2025-07-14          deposit   400.0   \n",
       "19              20        105.0       2025-07-15          deposit   600.0   \n",
       "\n",
       "       status  \n",
       "0   completed  \n",
       "1   completed  \n",
       "2   completed  \n",
       "3      failed  \n",
       "4   completed  \n",
       "5   completed  \n",
       "6   completed  \n",
       "7   completed  \n",
       "8   completed  \n",
       "9      failed  \n",
       "10  completed  \n",
       "13  completed  \n",
       "15  completed  \n",
       "16  completed  \n",
       "17  completed  \n",
       "18  completed  \n",
       "19     failed  "
      ]
     },
     "execution_count": 7,
     "metadata": {},
     "output_type": "execute_result"
    }
   ],
   "source": [
    "# I need to remove the rows where the data are missing using dropna()\n",
    "df_cleaned = df_bank_transactions.dropna()\n",
    "df_cleaned"
   ]
  },
  {
   "cell_type": "code",
   "execution_count": 8,
   "id": "2f62df7f-94d5-442b-ab30-d6c7e30f4924",
   "metadata": {},
   "outputs": [
    {
     "name": "stdout",
     "output_type": "stream",
     "text": [
      "transaction_id      0\n",
      "customer_id         0\n",
      "transaction_date    0\n",
      "transaction_type    0\n",
      "amount              0\n",
      "status              0\n",
      "dtype: int64\n"
     ]
    }
   ],
   "source": [
    "# I need to verify the cleaned data.\n",
    "print(df_cleaned.isnull().sum())"
   ]
  },
  {
   "cell_type": "code",
   "execution_count": 9,
   "id": "9f6b2952-4ac8-449a-bf30-f67b287b9bfc",
   "metadata": {},
   "outputs": [
    {
     "name": "stdout",
     "output_type": "stream",
     "text": [
      "Number of rows: 17\n"
     ]
    }
   ],
   "source": [
    "# After using dropna(). There should be 17 entries, not 20. \n",
    "row_count = len(df_cleaned)\n",
    "print(f\"Number of rows: {row_count}\")"
   ]
  },
  {
   "cell_type": "code",
   "execution_count": 10,
   "id": "5af7cee1-ed66-4410-8d8f-c60c5b023797",
   "metadata": {},
   "outputs": [
    {
     "data": {
      "text/html": [
       "<div>\n",
       "<style scoped>\n",
       "    .dataframe tbody tr th:only-of-type {\n",
       "        vertical-align: middle;\n",
       "    }\n",
       "\n",
       "    .dataframe tbody tr th {\n",
       "        vertical-align: top;\n",
       "    }\n",
       "\n",
       "    .dataframe thead th {\n",
       "        text-align: right;\n",
       "    }\n",
       "</style>\n",
       "<table border=\"1\" class=\"dataframe\">\n",
       "  <thead>\n",
       "    <tr style=\"text-align: right;\">\n",
       "      <th></th>\n",
       "      <th>transaction_id</th>\n",
       "      <th>customer_id</th>\n",
       "      <th>transaction_date</th>\n",
       "      <th>transaction_type</th>\n",
       "      <th>amount</th>\n",
       "      <th>status</th>\n",
       "    </tr>\n",
       "  </thead>\n",
       "  <tbody>\n",
       "    <tr>\n",
       "      <th>0</th>\n",
       "      <td>1</td>\n",
       "      <td>101.0</td>\n",
       "      <td>2025-07-01</td>\n",
       "      <td>deposit</td>\n",
       "      <td>500.0</td>\n",
       "      <td>completed</td>\n",
       "    </tr>\n",
       "    <tr>\n",
       "      <th>1</th>\n",
       "      <td>2</td>\n",
       "      <td>102.0</td>\n",
       "      <td>2025-07-01</td>\n",
       "      <td>withdrawal</td>\n",
       "      <td>200.0</td>\n",
       "      <td>completed</td>\n",
       "    </tr>\n",
       "    <tr>\n",
       "      <th>2</th>\n",
       "      <td>3</td>\n",
       "      <td>103.0</td>\n",
       "      <td>2025-07-02</td>\n",
       "      <td>deposit</td>\n",
       "      <td>1500.0</td>\n",
       "      <td>completed</td>\n",
       "    </tr>\n",
       "    <tr>\n",
       "      <th>3</th>\n",
       "      <td>4</td>\n",
       "      <td>101.0</td>\n",
       "      <td>2025-07-02</td>\n",
       "      <td>withdrawal</td>\n",
       "      <td>100.0</td>\n",
       "      <td>failed</td>\n",
       "    </tr>\n",
       "    <tr>\n",
       "      <th>4</th>\n",
       "      <td>5</td>\n",
       "      <td>104.0</td>\n",
       "      <td>2025-07-03</td>\n",
       "      <td>deposit</td>\n",
       "      <td>2500.0</td>\n",
       "      <td>completed</td>\n",
       "    </tr>\n",
       "    <tr>\n",
       "      <th>5</th>\n",
       "      <td>6</td>\n",
       "      <td>102.0</td>\n",
       "      <td>2025-07-04</td>\n",
       "      <td>withdrawal</td>\n",
       "      <td>800.0</td>\n",
       "      <td>completed</td>\n",
       "    </tr>\n",
       "    <tr>\n",
       "      <th>6</th>\n",
       "      <td>7</td>\n",
       "      <td>105.0</td>\n",
       "      <td>2025-07-05</td>\n",
       "      <td>deposit</td>\n",
       "      <td>1000.0</td>\n",
       "      <td>completed</td>\n",
       "    </tr>\n",
       "    <tr>\n",
       "      <th>7</th>\n",
       "      <td>8</td>\n",
       "      <td>101.0</td>\n",
       "      <td>2025-07-06</td>\n",
       "      <td>deposit</td>\n",
       "      <td>2000.0</td>\n",
       "      <td>completed</td>\n",
       "    </tr>\n",
       "    <tr>\n",
       "      <th>8</th>\n",
       "      <td>9</td>\n",
       "      <td>103.0</td>\n",
       "      <td>2025-07-06</td>\n",
       "      <td>withdrawal</td>\n",
       "      <td>300.0</td>\n",
       "      <td>completed</td>\n",
       "    </tr>\n",
       "    <tr>\n",
       "      <th>9</th>\n",
       "      <td>10</td>\n",
       "      <td>104.0</td>\n",
       "      <td>2025-07-07</td>\n",
       "      <td>withdrawal</td>\n",
       "      <td>1200.0</td>\n",
       "      <td>failed</td>\n",
       "    </tr>\n",
       "    <tr>\n",
       "      <th>10</th>\n",
       "      <td>11</td>\n",
       "      <td>106.0</td>\n",
       "      <td>2025-07-08</td>\n",
       "      <td>deposit</td>\n",
       "      <td>100.0</td>\n",
       "      <td>completed</td>\n",
       "    </tr>\n",
       "    <tr>\n",
       "      <th>13</th>\n",
       "      <td>14</td>\n",
       "      <td>109.0</td>\n",
       "      <td>2025-07-10</td>\n",
       "      <td>deposit</td>\n",
       "      <td>800.0</td>\n",
       "      <td>completed</td>\n",
       "    </tr>\n",
       "    <tr>\n",
       "      <th>15</th>\n",
       "      <td>16</td>\n",
       "      <td>110.0</td>\n",
       "      <td>07/11/2025</td>\n",
       "      <td>deposit</td>\n",
       "      <td>2000.0</td>\n",
       "      <td>completed</td>\n",
       "    </tr>\n",
       "    <tr>\n",
       "      <th>16</th>\n",
       "      <td>17</td>\n",
       "      <td>101.0</td>\n",
       "      <td>2025-07-12</td>\n",
       "      <td>deposit</td>\n",
       "      <td>-500.0</td>\n",
       "      <td>completed</td>\n",
       "    </tr>\n",
       "    <tr>\n",
       "      <th>17</th>\n",
       "      <td>18</td>\n",
       "      <td>102.0</td>\n",
       "      <td>2025-07-13</td>\n",
       "      <td>withdrawal</td>\n",
       "      <td>300.0</td>\n",
       "      <td>completed</td>\n",
       "    </tr>\n",
       "    <tr>\n",
       "      <th>18</th>\n",
       "      <td>19</td>\n",
       "      <td>103.0</td>\n",
       "      <td>2025-07-14</td>\n",
       "      <td>deposit</td>\n",
       "      <td>400.0</td>\n",
       "      <td>completed</td>\n",
       "    </tr>\n",
       "    <tr>\n",
       "      <th>19</th>\n",
       "      <td>20</td>\n",
       "      <td>105.0</td>\n",
       "      <td>2025-07-15</td>\n",
       "      <td>deposit</td>\n",
       "      <td>600.0</td>\n",
       "      <td>failed</td>\n",
       "    </tr>\n",
       "  </tbody>\n",
       "</table>\n",
       "</div>"
      ],
      "text/plain": [
       "    transaction_id  customer_id transaction_date transaction_type  amount  \\\n",
       "0                1        101.0       2025-07-01          deposit   500.0   \n",
       "1                2        102.0       2025-07-01       withdrawal   200.0   \n",
       "2                3        103.0       2025-07-02          deposit  1500.0   \n",
       "3                4        101.0       2025-07-02       withdrawal   100.0   \n",
       "4                5        104.0       2025-07-03          deposit  2500.0   \n",
       "5                6        102.0       2025-07-04       withdrawal   800.0   \n",
       "6                7        105.0       2025-07-05          deposit  1000.0   \n",
       "7                8        101.0       2025-07-06          deposit  2000.0   \n",
       "8                9        103.0       2025-07-06       withdrawal   300.0   \n",
       "9               10        104.0       2025-07-07       withdrawal  1200.0   \n",
       "10              11        106.0       2025-07-08          deposit   100.0   \n",
       "13              14        109.0       2025-07-10          deposit   800.0   \n",
       "15              16        110.0       07/11/2025          deposit  2000.0   \n",
       "16              17        101.0       2025-07-12          deposit  -500.0   \n",
       "17              18        102.0       2025-07-13       withdrawal   300.0   \n",
       "18              19        103.0       2025-07-14          deposit   400.0   \n",
       "19              20        105.0       2025-07-15          deposit   600.0   \n",
       "\n",
       "       status  \n",
       "0   completed  \n",
       "1   completed  \n",
       "2   completed  \n",
       "3      failed  \n",
       "4   completed  \n",
       "5   completed  \n",
       "6   completed  \n",
       "7   completed  \n",
       "8   completed  \n",
       "9      failed  \n",
       "10  completed  \n",
       "13  completed  \n",
       "15  completed  \n",
       "16  completed  \n",
       "17  completed  \n",
       "18  completed  \n",
       "19     failed  "
      ]
     },
     "execution_count": 10,
     "metadata": {},
     "output_type": "execute_result"
    }
   ],
   "source": [
    "df_cleaned"
   ]
  },
  {
   "cell_type": "code",
   "execution_count": 11,
   "id": "ac94bc71-3415-4065-9b92-d08d39b5b14d",
   "metadata": {},
   "outputs": [
    {
     "name": "stdout",
     "output_type": "stream",
     "text": [
      "Empty DataFrame\n",
      "Columns: [transaction_id, customer_id, transaction_date, transaction_type, amount, status]\n",
      "Index: []\n"
     ]
    }
   ],
   "source": [
    "# I need to check whether there are duplicates in the transaction_id column. \n",
    "duplicates = df_cleaned[df_cleaned.duplicated(subset=['transaction_id'])]\n",
    "print(duplicates)"
   ]
  },
  {
   "cell_type": "code",
   "execution_count": 12,
   "id": "8fcc8347-b519-4b24-a1f2-8227c1028abd",
   "metadata": {},
   "outputs": [
    {
     "name": "stdout",
     "output_type": "stream",
     "text": [
      "<class 'pandas.core.frame.DataFrame'>\n",
      "Index: 17 entries, 0 to 19\n",
      "Data columns (total 6 columns):\n",
      " #   Column            Non-Null Count  Dtype  \n",
      "---  ------            --------------  -----  \n",
      " 0   transaction_id    17 non-null     int64  \n",
      " 1   customer_id       17 non-null     float64\n",
      " 2   transaction_date  17 non-null     object \n",
      " 3   transaction_type  17 non-null     object \n",
      " 4   amount            17 non-null     float64\n",
      " 5   status            17 non-null     object \n",
      "dtypes: float64(2), int64(1), object(3)\n",
      "memory usage: 952.0+ bytes\n"
     ]
    }
   ],
   "source": [
    "# I need to check the whether each column has the same format. \n",
    "df_cleaned.info()"
   ]
  },
  {
   "cell_type": "code",
   "execution_count": 13,
   "id": "da9e4459-e3b5-4ec4-a559-82a6a0ac9614",
   "metadata": {},
   "outputs": [
    {
     "name": "stdout",
     "output_type": "stream",
     "text": [
      "    transaction_id  customer_id transaction_date transaction_type  amount  \\\n",
      "16              17        101.0       2025-07-12          deposit  -500.0   \n",
      "\n",
      "       status  \n",
      "16  completed  \n"
     ]
    }
   ],
   "source": [
    "# I need to check whether the amounts in the column \"amount\" have all positive amounts. \n",
    "# Firstly, I need to filter the negative amounts in the \"amount\" column. \n",
    "negative_amounts = df_cleaned[df_cleaned['amount'] < 0]\n",
    "print(negative_amounts)"
   ]
  },
  {
   "cell_type": "code",
   "execution_count": 14,
   "id": "397167c6-ee26-4c4e-a2fb-843f24b248c6",
   "metadata": {},
   "outputs": [
    {
     "data": {
      "text/html": [
       "<div>\n",
       "<style scoped>\n",
       "    .dataframe tbody tr th:only-of-type {\n",
       "        vertical-align: middle;\n",
       "    }\n",
       "\n",
       "    .dataframe tbody tr th {\n",
       "        vertical-align: top;\n",
       "    }\n",
       "\n",
       "    .dataframe thead th {\n",
       "        text-align: right;\n",
       "    }\n",
       "</style>\n",
       "<table border=\"1\" class=\"dataframe\">\n",
       "  <thead>\n",
       "    <tr style=\"text-align: right;\">\n",
       "      <th></th>\n",
       "      <th>transaction_id</th>\n",
       "      <th>customer_id</th>\n",
       "      <th>transaction_date</th>\n",
       "      <th>transaction_type</th>\n",
       "      <th>amount</th>\n",
       "      <th>status</th>\n",
       "    </tr>\n",
       "  </thead>\n",
       "  <tbody>\n",
       "    <tr>\n",
       "      <th>0</th>\n",
       "      <td>1</td>\n",
       "      <td>101.0</td>\n",
       "      <td>2025-07-01</td>\n",
       "      <td>deposit</td>\n",
       "      <td>500.0</td>\n",
       "      <td>completed</td>\n",
       "    </tr>\n",
       "    <tr>\n",
       "      <th>1</th>\n",
       "      <td>2</td>\n",
       "      <td>102.0</td>\n",
       "      <td>2025-07-01</td>\n",
       "      <td>withdrawal</td>\n",
       "      <td>200.0</td>\n",
       "      <td>completed</td>\n",
       "    </tr>\n",
       "    <tr>\n",
       "      <th>2</th>\n",
       "      <td>3</td>\n",
       "      <td>103.0</td>\n",
       "      <td>2025-07-02</td>\n",
       "      <td>deposit</td>\n",
       "      <td>1500.0</td>\n",
       "      <td>completed</td>\n",
       "    </tr>\n",
       "    <tr>\n",
       "      <th>3</th>\n",
       "      <td>4</td>\n",
       "      <td>101.0</td>\n",
       "      <td>2025-07-02</td>\n",
       "      <td>withdrawal</td>\n",
       "      <td>100.0</td>\n",
       "      <td>failed</td>\n",
       "    </tr>\n",
       "    <tr>\n",
       "      <th>4</th>\n",
       "      <td>5</td>\n",
       "      <td>104.0</td>\n",
       "      <td>2025-07-03</td>\n",
       "      <td>deposit</td>\n",
       "      <td>2500.0</td>\n",
       "      <td>completed</td>\n",
       "    </tr>\n",
       "    <tr>\n",
       "      <th>5</th>\n",
       "      <td>6</td>\n",
       "      <td>102.0</td>\n",
       "      <td>2025-07-04</td>\n",
       "      <td>withdrawal</td>\n",
       "      <td>800.0</td>\n",
       "      <td>completed</td>\n",
       "    </tr>\n",
       "    <tr>\n",
       "      <th>6</th>\n",
       "      <td>7</td>\n",
       "      <td>105.0</td>\n",
       "      <td>2025-07-05</td>\n",
       "      <td>deposit</td>\n",
       "      <td>1000.0</td>\n",
       "      <td>completed</td>\n",
       "    </tr>\n",
       "    <tr>\n",
       "      <th>7</th>\n",
       "      <td>8</td>\n",
       "      <td>101.0</td>\n",
       "      <td>2025-07-06</td>\n",
       "      <td>deposit</td>\n",
       "      <td>2000.0</td>\n",
       "      <td>completed</td>\n",
       "    </tr>\n",
       "    <tr>\n",
       "      <th>8</th>\n",
       "      <td>9</td>\n",
       "      <td>103.0</td>\n",
       "      <td>2025-07-06</td>\n",
       "      <td>withdrawal</td>\n",
       "      <td>300.0</td>\n",
       "      <td>completed</td>\n",
       "    </tr>\n",
       "    <tr>\n",
       "      <th>9</th>\n",
       "      <td>10</td>\n",
       "      <td>104.0</td>\n",
       "      <td>2025-07-07</td>\n",
       "      <td>withdrawal</td>\n",
       "      <td>1200.0</td>\n",
       "      <td>failed</td>\n",
       "    </tr>\n",
       "    <tr>\n",
       "      <th>10</th>\n",
       "      <td>11</td>\n",
       "      <td>106.0</td>\n",
       "      <td>2025-07-08</td>\n",
       "      <td>deposit</td>\n",
       "      <td>100.0</td>\n",
       "      <td>completed</td>\n",
       "    </tr>\n",
       "    <tr>\n",
       "      <th>13</th>\n",
       "      <td>14</td>\n",
       "      <td>109.0</td>\n",
       "      <td>2025-07-10</td>\n",
       "      <td>deposit</td>\n",
       "      <td>800.0</td>\n",
       "      <td>completed</td>\n",
       "    </tr>\n",
       "    <tr>\n",
       "      <th>15</th>\n",
       "      <td>16</td>\n",
       "      <td>110.0</td>\n",
       "      <td>07/11/2025</td>\n",
       "      <td>deposit</td>\n",
       "      <td>2000.0</td>\n",
       "      <td>completed</td>\n",
       "    </tr>\n",
       "    <tr>\n",
       "      <th>16</th>\n",
       "      <td>17</td>\n",
       "      <td>101.0</td>\n",
       "      <td>2025-07-12</td>\n",
       "      <td>deposit</td>\n",
       "      <td>500.0</td>\n",
       "      <td>completed</td>\n",
       "    </tr>\n",
       "    <tr>\n",
       "      <th>17</th>\n",
       "      <td>18</td>\n",
       "      <td>102.0</td>\n",
       "      <td>2025-07-13</td>\n",
       "      <td>withdrawal</td>\n",
       "      <td>300.0</td>\n",
       "      <td>completed</td>\n",
       "    </tr>\n",
       "    <tr>\n",
       "      <th>18</th>\n",
       "      <td>19</td>\n",
       "      <td>103.0</td>\n",
       "      <td>2025-07-14</td>\n",
       "      <td>deposit</td>\n",
       "      <td>400.0</td>\n",
       "      <td>completed</td>\n",
       "    </tr>\n",
       "    <tr>\n",
       "      <th>19</th>\n",
       "      <td>20</td>\n",
       "      <td>105.0</td>\n",
       "      <td>2025-07-15</td>\n",
       "      <td>deposit</td>\n",
       "      <td>600.0</td>\n",
       "      <td>failed</td>\n",
       "    </tr>\n",
       "  </tbody>\n",
       "</table>\n",
       "</div>"
      ],
      "text/plain": [
       "    transaction_id  customer_id transaction_date transaction_type  amount  \\\n",
       "0                1        101.0       2025-07-01          deposit   500.0   \n",
       "1                2        102.0       2025-07-01       withdrawal   200.0   \n",
       "2                3        103.0       2025-07-02          deposit  1500.0   \n",
       "3                4        101.0       2025-07-02       withdrawal   100.0   \n",
       "4                5        104.0       2025-07-03          deposit  2500.0   \n",
       "5                6        102.0       2025-07-04       withdrawal   800.0   \n",
       "6                7        105.0       2025-07-05          deposit  1000.0   \n",
       "7                8        101.0       2025-07-06          deposit  2000.0   \n",
       "8                9        103.0       2025-07-06       withdrawal   300.0   \n",
       "9               10        104.0       2025-07-07       withdrawal  1200.0   \n",
       "10              11        106.0       2025-07-08          deposit   100.0   \n",
       "13              14        109.0       2025-07-10          deposit   800.0   \n",
       "15              16        110.0       07/11/2025          deposit  2000.0   \n",
       "16              17        101.0       2025-07-12          deposit   500.0   \n",
       "17              18        102.0       2025-07-13       withdrawal   300.0   \n",
       "18              19        103.0       2025-07-14          deposit   400.0   \n",
       "19              20        105.0       2025-07-15          deposit   600.0   \n",
       "\n",
       "       status  \n",
       "0   completed  \n",
       "1   completed  \n",
       "2   completed  \n",
       "3      failed  \n",
       "4   completed  \n",
       "5   completed  \n",
       "6   completed  \n",
       "7   completed  \n",
       "8   completed  \n",
       "9      failed  \n",
       "10  completed  \n",
       "13  completed  \n",
       "15  completed  \n",
       "16  completed  \n",
       "17  completed  \n",
       "18  completed  \n",
       "19     failed  "
      ]
     },
     "execution_count": 14,
     "metadata": {},
     "output_type": "execute_result"
    }
   ],
   "source": [
    "# I want to convert the negative amount to positive using absolute value function. \n",
    "df_cleaned.loc[:, 'amount'] = df_cleaned.loc[:,'amount'].abs()\n",
    "df_cleaned"
   ]
  },
  {
   "cell_type": "code",
   "execution_count": 15,
   "id": "51ee32b0-e46f-466a-b490-8b040b7b395a",
   "metadata": {},
   "outputs": [],
   "source": [
    "# It seems that the transaction_date column contains different formats. I need to convert the dates to a uniform format\n",
    "# using \"pd.to_datetime()\"\n",
    "# I need to use \".loc\" because it explicitly assign values to a column in a DataFrame ensuring that I'm modifiyng the original DataFrame. Otherwise the warning occurs, informing that I'm modyfiyng a view. \n",
    "# I need to use \":, 'transaction_date'\". This means that I'm selecting the whole column. \n",
    "\n",
    "df_cleaned.loc[:, 'transaction_date'] = pd.to_datetime(\n",
    "    df_cleaned.loc[:,'transaction_date'],\n",
    "    format='%Y-%m-%d',\n",
    "    errors='coerce'\n",
    ")\n"
   ]
  },
  {
   "cell_type": "code",
   "execution_count": 16,
   "id": "dd34c0c3-304c-4d9c-8a08-d936db0a359c",
   "metadata": {},
   "outputs": [
    {
     "name": "stdout",
     "output_type": "stream",
     "text": [
      "object\n"
     ]
    }
   ],
   "source": [
    "# I need to verify whether the inserted date has correct format. It should be datetime64[ns]. \n",
    "print(df_cleaned['transaction_date'].dtype)\n"
   ]
  },
  {
   "cell_type": "code",
   "execution_count": 17,
   "id": "8886baec-d317-4f98-8559-3db321baa195",
   "metadata": {},
   "outputs": [
    {
     "data": {
      "text/html": [
       "<div>\n",
       "<style scoped>\n",
       "    .dataframe tbody tr th:only-of-type {\n",
       "        vertical-align: middle;\n",
       "    }\n",
       "\n",
       "    .dataframe tbody tr th {\n",
       "        vertical-align: top;\n",
       "    }\n",
       "\n",
       "    .dataframe thead th {\n",
       "        text-align: right;\n",
       "    }\n",
       "</style>\n",
       "<table border=\"1\" class=\"dataframe\">\n",
       "  <thead>\n",
       "    <tr style=\"text-align: right;\">\n",
       "      <th></th>\n",
       "      <th>transaction_id</th>\n",
       "      <th>customer_id</th>\n",
       "      <th>transaction_date</th>\n",
       "      <th>transaction_type</th>\n",
       "      <th>amount</th>\n",
       "      <th>status</th>\n",
       "    </tr>\n",
       "  </thead>\n",
       "  <tbody>\n",
       "    <tr>\n",
       "      <th>0</th>\n",
       "      <td>1</td>\n",
       "      <td>101.0</td>\n",
       "      <td>2025-07-01 00:00:00</td>\n",
       "      <td>deposit</td>\n",
       "      <td>500.0</td>\n",
       "      <td>completed</td>\n",
       "    </tr>\n",
       "    <tr>\n",
       "      <th>1</th>\n",
       "      <td>2</td>\n",
       "      <td>102.0</td>\n",
       "      <td>2025-07-01 00:00:00</td>\n",
       "      <td>withdrawal</td>\n",
       "      <td>200.0</td>\n",
       "      <td>completed</td>\n",
       "    </tr>\n",
       "    <tr>\n",
       "      <th>2</th>\n",
       "      <td>3</td>\n",
       "      <td>103.0</td>\n",
       "      <td>2025-07-02 00:00:00</td>\n",
       "      <td>deposit</td>\n",
       "      <td>1500.0</td>\n",
       "      <td>completed</td>\n",
       "    </tr>\n",
       "    <tr>\n",
       "      <th>3</th>\n",
       "      <td>4</td>\n",
       "      <td>101.0</td>\n",
       "      <td>2025-07-02 00:00:00</td>\n",
       "      <td>withdrawal</td>\n",
       "      <td>100.0</td>\n",
       "      <td>failed</td>\n",
       "    </tr>\n",
       "    <tr>\n",
       "      <th>4</th>\n",
       "      <td>5</td>\n",
       "      <td>104.0</td>\n",
       "      <td>2025-07-03 00:00:00</td>\n",
       "      <td>deposit</td>\n",
       "      <td>2500.0</td>\n",
       "      <td>completed</td>\n",
       "    </tr>\n",
       "    <tr>\n",
       "      <th>5</th>\n",
       "      <td>6</td>\n",
       "      <td>102.0</td>\n",
       "      <td>2025-07-04 00:00:00</td>\n",
       "      <td>withdrawal</td>\n",
       "      <td>800.0</td>\n",
       "      <td>completed</td>\n",
       "    </tr>\n",
       "    <tr>\n",
       "      <th>6</th>\n",
       "      <td>7</td>\n",
       "      <td>105.0</td>\n",
       "      <td>2025-07-05 00:00:00</td>\n",
       "      <td>deposit</td>\n",
       "      <td>1000.0</td>\n",
       "      <td>completed</td>\n",
       "    </tr>\n",
       "    <tr>\n",
       "      <th>7</th>\n",
       "      <td>8</td>\n",
       "      <td>101.0</td>\n",
       "      <td>2025-07-06 00:00:00</td>\n",
       "      <td>deposit</td>\n",
       "      <td>2000.0</td>\n",
       "      <td>completed</td>\n",
       "    </tr>\n",
       "    <tr>\n",
       "      <th>8</th>\n",
       "      <td>9</td>\n",
       "      <td>103.0</td>\n",
       "      <td>2025-07-06 00:00:00</td>\n",
       "      <td>withdrawal</td>\n",
       "      <td>300.0</td>\n",
       "      <td>completed</td>\n",
       "    </tr>\n",
       "    <tr>\n",
       "      <th>9</th>\n",
       "      <td>10</td>\n",
       "      <td>104.0</td>\n",
       "      <td>2025-07-07 00:00:00</td>\n",
       "      <td>withdrawal</td>\n",
       "      <td>1200.0</td>\n",
       "      <td>failed</td>\n",
       "    </tr>\n",
       "    <tr>\n",
       "      <th>10</th>\n",
       "      <td>11</td>\n",
       "      <td>106.0</td>\n",
       "      <td>2025-07-08 00:00:00</td>\n",
       "      <td>deposit</td>\n",
       "      <td>100.0</td>\n",
       "      <td>completed</td>\n",
       "    </tr>\n",
       "    <tr>\n",
       "      <th>13</th>\n",
       "      <td>14</td>\n",
       "      <td>109.0</td>\n",
       "      <td>2025-07-10 00:00:00</td>\n",
       "      <td>deposit</td>\n",
       "      <td>800.0</td>\n",
       "      <td>completed</td>\n",
       "    </tr>\n",
       "    <tr>\n",
       "      <th>15</th>\n",
       "      <td>16</td>\n",
       "      <td>110.0</td>\n",
       "      <td>NaT</td>\n",
       "      <td>deposit</td>\n",
       "      <td>2000.0</td>\n",
       "      <td>completed</td>\n",
       "    </tr>\n",
       "    <tr>\n",
       "      <th>16</th>\n",
       "      <td>17</td>\n",
       "      <td>101.0</td>\n",
       "      <td>2025-07-12 00:00:00</td>\n",
       "      <td>deposit</td>\n",
       "      <td>500.0</td>\n",
       "      <td>completed</td>\n",
       "    </tr>\n",
       "    <tr>\n",
       "      <th>17</th>\n",
       "      <td>18</td>\n",
       "      <td>102.0</td>\n",
       "      <td>2025-07-13 00:00:00</td>\n",
       "      <td>withdrawal</td>\n",
       "      <td>300.0</td>\n",
       "      <td>completed</td>\n",
       "    </tr>\n",
       "    <tr>\n",
       "      <th>18</th>\n",
       "      <td>19</td>\n",
       "      <td>103.0</td>\n",
       "      <td>2025-07-14 00:00:00</td>\n",
       "      <td>deposit</td>\n",
       "      <td>400.0</td>\n",
       "      <td>completed</td>\n",
       "    </tr>\n",
       "    <tr>\n",
       "      <th>19</th>\n",
       "      <td>20</td>\n",
       "      <td>105.0</td>\n",
       "      <td>2025-07-15 00:00:00</td>\n",
       "      <td>deposit</td>\n",
       "      <td>600.0</td>\n",
       "      <td>failed</td>\n",
       "    </tr>\n",
       "  </tbody>\n",
       "</table>\n",
       "</div>"
      ],
      "text/plain": [
       "    transaction_id  customer_id     transaction_date transaction_type  amount  \\\n",
       "0                1        101.0  2025-07-01 00:00:00          deposit   500.0   \n",
       "1                2        102.0  2025-07-01 00:00:00       withdrawal   200.0   \n",
       "2                3        103.0  2025-07-02 00:00:00          deposit  1500.0   \n",
       "3                4        101.0  2025-07-02 00:00:00       withdrawal   100.0   \n",
       "4                5        104.0  2025-07-03 00:00:00          deposit  2500.0   \n",
       "5                6        102.0  2025-07-04 00:00:00       withdrawal   800.0   \n",
       "6                7        105.0  2025-07-05 00:00:00          deposit  1000.0   \n",
       "7                8        101.0  2025-07-06 00:00:00          deposit  2000.0   \n",
       "8                9        103.0  2025-07-06 00:00:00       withdrawal   300.0   \n",
       "9               10        104.0  2025-07-07 00:00:00       withdrawal  1200.0   \n",
       "10              11        106.0  2025-07-08 00:00:00          deposit   100.0   \n",
       "13              14        109.0  2025-07-10 00:00:00          deposit   800.0   \n",
       "15              16        110.0                  NaT          deposit  2000.0   \n",
       "16              17        101.0  2025-07-12 00:00:00          deposit   500.0   \n",
       "17              18        102.0  2025-07-13 00:00:00       withdrawal   300.0   \n",
       "18              19        103.0  2025-07-14 00:00:00          deposit   400.0   \n",
       "19              20        105.0  2025-07-15 00:00:00          deposit   600.0   \n",
       "\n",
       "       status  \n",
       "0   completed  \n",
       "1   completed  \n",
       "2   completed  \n",
       "3      failed  \n",
       "4   completed  \n",
       "5   completed  \n",
       "6   completed  \n",
       "7   completed  \n",
       "8   completed  \n",
       "9      failed  \n",
       "10  completed  \n",
       "13  completed  \n",
       "15  completed  \n",
       "16  completed  \n",
       "17  completed  \n",
       "18  completed  \n",
       "19     failed  "
      ]
     },
     "execution_count": 17,
     "metadata": {},
     "output_type": "execute_result"
    }
   ],
   "source": [
    "df_cleaned"
   ]
  },
  {
   "cell_type": "code",
   "execution_count": 18,
   "id": "5bceb3b2-74dd-4bcb-9d80-0f4055236d62",
   "metadata": {},
   "outputs": [
    {
     "data": {
      "text/html": [
       "<div>\n",
       "<style scoped>\n",
       "    .dataframe tbody tr th:only-of-type {\n",
       "        vertical-align: middle;\n",
       "    }\n",
       "\n",
       "    .dataframe tbody tr th {\n",
       "        vertical-align: top;\n",
       "    }\n",
       "\n",
       "    .dataframe thead th {\n",
       "        text-align: right;\n",
       "    }\n",
       "</style>\n",
       "<table border=\"1\" class=\"dataframe\">\n",
       "  <thead>\n",
       "    <tr style=\"text-align: right;\">\n",
       "      <th></th>\n",
       "      <th>transaction_id</th>\n",
       "      <th>customer_id</th>\n",
       "      <th>transaction_date</th>\n",
       "      <th>transaction_type</th>\n",
       "      <th>amount</th>\n",
       "      <th>status</th>\n",
       "    </tr>\n",
       "  </thead>\n",
       "  <tbody>\n",
       "    <tr>\n",
       "      <th>0</th>\n",
       "      <td>1</td>\n",
       "      <td>101.0</td>\n",
       "      <td>2025-07-01 00:00:00</td>\n",
       "      <td>deposit</td>\n",
       "      <td>500.0</td>\n",
       "      <td>completed</td>\n",
       "    </tr>\n",
       "    <tr>\n",
       "      <th>1</th>\n",
       "      <td>2</td>\n",
       "      <td>102.0</td>\n",
       "      <td>2025-07-01 00:00:00</td>\n",
       "      <td>withdrawal</td>\n",
       "      <td>200.0</td>\n",
       "      <td>completed</td>\n",
       "    </tr>\n",
       "    <tr>\n",
       "      <th>2</th>\n",
       "      <td>3</td>\n",
       "      <td>103.0</td>\n",
       "      <td>2025-07-02 00:00:00</td>\n",
       "      <td>deposit</td>\n",
       "      <td>1500.0</td>\n",
       "      <td>completed</td>\n",
       "    </tr>\n",
       "    <tr>\n",
       "      <th>4</th>\n",
       "      <td>5</td>\n",
       "      <td>104.0</td>\n",
       "      <td>2025-07-03 00:00:00</td>\n",
       "      <td>deposit</td>\n",
       "      <td>2500.0</td>\n",
       "      <td>completed</td>\n",
       "    </tr>\n",
       "    <tr>\n",
       "      <th>5</th>\n",
       "      <td>6</td>\n",
       "      <td>102.0</td>\n",
       "      <td>2025-07-04 00:00:00</td>\n",
       "      <td>withdrawal</td>\n",
       "      <td>800.0</td>\n",
       "      <td>completed</td>\n",
       "    </tr>\n",
       "    <tr>\n",
       "      <th>6</th>\n",
       "      <td>7</td>\n",
       "      <td>105.0</td>\n",
       "      <td>2025-07-05 00:00:00</td>\n",
       "      <td>deposit</td>\n",
       "      <td>1000.0</td>\n",
       "      <td>completed</td>\n",
       "    </tr>\n",
       "    <tr>\n",
       "      <th>7</th>\n",
       "      <td>8</td>\n",
       "      <td>101.0</td>\n",
       "      <td>2025-07-06 00:00:00</td>\n",
       "      <td>deposit</td>\n",
       "      <td>2000.0</td>\n",
       "      <td>completed</td>\n",
       "    </tr>\n",
       "    <tr>\n",
       "      <th>8</th>\n",
       "      <td>9</td>\n",
       "      <td>103.0</td>\n",
       "      <td>2025-07-06 00:00:00</td>\n",
       "      <td>withdrawal</td>\n",
       "      <td>300.0</td>\n",
       "      <td>completed</td>\n",
       "    </tr>\n",
       "    <tr>\n",
       "      <th>10</th>\n",
       "      <td>11</td>\n",
       "      <td>106.0</td>\n",
       "      <td>2025-07-08 00:00:00</td>\n",
       "      <td>deposit</td>\n",
       "      <td>100.0</td>\n",
       "      <td>completed</td>\n",
       "    </tr>\n",
       "    <tr>\n",
       "      <th>13</th>\n",
       "      <td>14</td>\n",
       "      <td>109.0</td>\n",
       "      <td>2025-07-10 00:00:00</td>\n",
       "      <td>deposit</td>\n",
       "      <td>800.0</td>\n",
       "      <td>completed</td>\n",
       "    </tr>\n",
       "    <tr>\n",
       "      <th>15</th>\n",
       "      <td>16</td>\n",
       "      <td>110.0</td>\n",
       "      <td>NaT</td>\n",
       "      <td>deposit</td>\n",
       "      <td>2000.0</td>\n",
       "      <td>completed</td>\n",
       "    </tr>\n",
       "    <tr>\n",
       "      <th>16</th>\n",
       "      <td>17</td>\n",
       "      <td>101.0</td>\n",
       "      <td>2025-07-12 00:00:00</td>\n",
       "      <td>deposit</td>\n",
       "      <td>500.0</td>\n",
       "      <td>completed</td>\n",
       "    </tr>\n",
       "    <tr>\n",
       "      <th>17</th>\n",
       "      <td>18</td>\n",
       "      <td>102.0</td>\n",
       "      <td>2025-07-13 00:00:00</td>\n",
       "      <td>withdrawal</td>\n",
       "      <td>300.0</td>\n",
       "      <td>completed</td>\n",
       "    </tr>\n",
       "    <tr>\n",
       "      <th>18</th>\n",
       "      <td>19</td>\n",
       "      <td>103.0</td>\n",
       "      <td>2025-07-14 00:00:00</td>\n",
       "      <td>deposit</td>\n",
       "      <td>400.0</td>\n",
       "      <td>completed</td>\n",
       "    </tr>\n",
       "  </tbody>\n",
       "</table>\n",
       "</div>"
      ],
      "text/plain": [
       "    transaction_id  customer_id     transaction_date transaction_type  amount  \\\n",
       "0                1        101.0  2025-07-01 00:00:00          deposit   500.0   \n",
       "1                2        102.0  2025-07-01 00:00:00       withdrawal   200.0   \n",
       "2                3        103.0  2025-07-02 00:00:00          deposit  1500.0   \n",
       "4                5        104.0  2025-07-03 00:00:00          deposit  2500.0   \n",
       "5                6        102.0  2025-07-04 00:00:00       withdrawal   800.0   \n",
       "6                7        105.0  2025-07-05 00:00:00          deposit  1000.0   \n",
       "7                8        101.0  2025-07-06 00:00:00          deposit  2000.0   \n",
       "8                9        103.0  2025-07-06 00:00:00       withdrawal   300.0   \n",
       "10              11        106.0  2025-07-08 00:00:00          deposit   100.0   \n",
       "13              14        109.0  2025-07-10 00:00:00          deposit   800.0   \n",
       "15              16        110.0                  NaT          deposit  2000.0   \n",
       "16              17        101.0  2025-07-12 00:00:00          deposit   500.0   \n",
       "17              18        102.0  2025-07-13 00:00:00       withdrawal   300.0   \n",
       "18              19        103.0  2025-07-14 00:00:00          deposit   400.0   \n",
       "\n",
       "       status  \n",
       "0   completed  \n",
       "1   completed  \n",
       "2   completed  \n",
       "4   completed  \n",
       "5   completed  \n",
       "6   completed  \n",
       "7   completed  \n",
       "8   completed  \n",
       "10  completed  \n",
       "13  completed  \n",
       "15  completed  \n",
       "16  completed  \n",
       "17  completed  \n",
       "18  completed  "
      ]
     },
     "execution_count": 18,
     "metadata": {},
     "output_type": "execute_result"
    }
   ],
   "source": [
    "# I want to get rid of the \"failed\" status using filter out the rows where the \"status\" is failed. \n",
    "df_cleaned = df_cleaned[df_cleaned['status'] != 'failed']\n",
    "df_cleaned"
   ]
  },
  {
   "cell_type": "code",
   "execution_count": 19,
   "id": "8fef65a1-18ae-4ff7-89da-557fd2890480",
   "metadata": {},
   "outputs": [
    {
     "name": "stdout",
     "output_type": "stream",
     "text": [
      "transaction_id        int64\n",
      "customer_id         float64\n",
      "transaction_date     object\n",
      "transaction_type     object\n",
      "amount              float64\n",
      "status               object\n",
      "dtype: object\n"
     ]
    }
   ],
   "source": [
    "# I need to check whether the formats in columns are correct. \n",
    "print(df_cleaned.dtypes)"
   ]
  },
  {
   "cell_type": "code",
   "execution_count": 20,
   "id": "0d84b9ac-7344-40cb-aba4-17a04dcb498d",
   "metadata": {},
   "outputs": [
    {
     "name": "stdout",
     "output_type": "stream",
     "text": [
      "object\n"
     ]
    }
   ],
   "source": [
    "# As the transaction type (text) is object, I would like to change to format string. \n",
    "df_cleaned.loc[:,'transaction_type'] = df_cleaned.loc[:,'transaction_type'].astype('string')\n",
    "print(df_cleaned['transaction_type'].dtype)"
   ]
  },
  {
   "cell_type": "code",
   "execution_count": 21,
   "id": "d5a9fbab-4b03-4fcb-90f2-b66390e9bdd2",
   "metadata": {},
   "outputs": [
    {
     "name": "stdout",
     "output_type": "stream",
     "text": [
      "float64\n"
     ]
    }
   ],
   "source": [
    "# As the customer_id is float64, I would like to change to format int64.\n",
    "df_cleaned.loc[:, 'customer_id'] = df_cleaned.loc[:, 'customer_id'].apply(lambda x: int(x))\n",
    "\n",
    "# Verify the change\n",
    "print(df_cleaned['customer_id'].dtype)"
   ]
  },
  {
   "cell_type": "code",
   "execution_count": 22,
   "id": "76436488-4bd1-4c48-9c29-fc7858664475",
   "metadata": {},
   "outputs": [
    {
     "name": "stdout",
     "output_type": "stream",
     "text": [
      "object\n"
     ]
    }
   ],
   "source": [
    "# As the status (text) is object, I would like to change to format string. But \n",
    "df_cleaned.loc[:, 'status'] = df_cleaned.loc[:,'status'].astype(pd.StringDtype())\n",
    "\n",
    "# Verify the change\n",
    "print(df_cleaned['status'].dtype)  # Should print 'string'"
   ]
  },
  {
   "cell_type": "code",
   "execution_count": 23,
   "id": "8d9b63d6-6256-45f3-bc9f-8dcd5f73068a",
   "metadata": {},
   "outputs": [
    {
     "name": "stdout",
     "output_type": "stream",
     "text": [
      "transaction_id        int64\n",
      "customer_id         float64\n",
      "transaction_date     object\n",
      "transaction_type     object\n",
      "amount              float64\n",
      "status               object\n",
      "dtype: object\n"
     ]
    }
   ],
   "source": [
    "print(df_cleaned.dtypes)"
   ]
  },
  {
   "cell_type": "code",
   "execution_count": 24,
   "id": "1cbc7482-907d-43e4-b124-cff304b3a0ff",
   "metadata": {},
   "outputs": [],
   "source": [
    "# 3. Analysis and Reporting"
   ]
  },
  {
   "cell_type": "code",
   "execution_count": 25,
   "id": "4dbd4fe8-5a04-4cdc-8a1f-8c3e83ca7c5d",
   "metadata": {},
   "outputs": [
    {
     "name": "stdout",
     "output_type": "stream",
     "text": [
      "The total deposit for customer 101.0 is 3000 EUR.\n",
      "The total deposit for customer 103.0 is 1900 EUR.\n",
      "The total deposit for customer 104.0 is 2500 EUR.\n",
      "The total deposit for customer 105.0 is 1000 EUR.\n",
      "The total deposit for customer 106.0 is 100 EUR.\n",
      "The total deposit for customer 109.0 is 800 EUR.\n",
      "The total deposit for customer 110.0 is 2000 EUR.\n"
     ]
    }
   ],
   "source": [
    "# Total amount deposited by each customer in the first half of July 2025. \n",
    "deposits_per_customer = df_cleaned[df_cleaned['transaction_type'] == 'deposit']\n",
    "total_deposits_per_customer = deposits_per_customer.groupby('customer_id')['amount'].sum()\n",
    "\n",
    "for customer_id, total_deposit in total_deposits_per_customer.items():\n",
    "    total_deposit_int = int(total_deposit)\n",
    "    print(f\"The total deposit for customer {customer_id} is {total_deposit_int} EUR.\")"
   ]
  },
  {
   "cell_type": "code",
   "execution_count": 26,
   "id": "ea8b94e0-6409-489a-a61e-4340edacfbab",
   "metadata": {},
   "outputs": [
    {
     "name": "stdout",
     "output_type": "stream",
     "text": [
      "Average transaction amount: 921.43 EUR\n"
     ]
    }
   ],
   "source": [
    "# Average transaction amount in the first half of July 2025. \n",
    "average_transaction_amount = df_cleaned['amount'].mean()\n",
    "\n",
    "average_transaction_amount_rounded = round(average_transaction_amount, 2)\n",
    "\n",
    "print(f\"Average transaction amount: {average_transaction_amount_rounded} EUR\")"
   ]
  },
  {
   "cell_type": "code",
   "execution_count": 27,
   "id": "b6157027-8772-4cb4-bf60-746ab47ecaf3",
   "metadata": {},
   "outputs": [
    {
     "name": "stdout",
     "output_type": "stream",
     "text": [
      "                                 sum           \n",
      "transaction_type             deposit withdrawal\n",
      "customer_id transaction_date                   \n",
      "101.0       2025-07-01         500.0        0.0\n",
      "            2025-07-06        2000.0        0.0\n",
      "            2025-07-12         500.0        0.0\n",
      "102.0       2025-07-01           0.0      200.0\n",
      "            2025-07-04           0.0      800.0\n",
      "            2025-07-13           0.0      300.0\n",
      "103.0       2025-07-02        1500.0        0.0\n",
      "            2025-07-06           0.0      300.0\n",
      "            2025-07-14         400.0        0.0\n",
      "104.0       2025-07-03        2500.0        0.0\n",
      "105.0       2025-07-05        1000.0        0.0\n",
      "106.0       2025-07-08         100.0        0.0\n",
      "109.0       2025-07-10         800.0        0.0\n"
     ]
    }
   ],
   "source": [
    "# I want to create a pivot table to show a amount of deposit and withdrawal for each date and customer. \n",
    "\n",
    "pivot_table = (\n",
    "        df_cleaned\n",
    "        .pivot_table(index=['customer_id', 'transaction_date'], columns='transaction_type', aggfunc={'amount':['sum']}, fill_value=0)\n",
    "        .droplevel(0, axis='columns')\n",
    ")\n",
    "\n",
    "print(pivot_table)"
   ]
  },
  {
   "cell_type": "code",
   "execution_count": null,
   "id": "584cdd95-b143-4c8e-b073-921ba2bbfabc",
   "metadata": {},
   "outputs": [],
   "source": [
    "# Visualization"
   ]
  },
  {
   "cell_type": "code",
   "execution_count": 33,
   "id": "3555810f-62dc-43c8-91fd-86dd2d66b826",
   "metadata": {},
   "outputs": [
    {
     "data": {
      "application/vnd.plotly.v1+json": {
       "config": {
        "plotlyServerURL": "https://plot.ly"
       },
       "data": [
        {
         "alignmentgroup": "True",
         "hovertemplate": "customer_id=%{x}<br>Total Amount=%{y}<extra></extra>",
         "legendgroup": "",
         "marker": {
          "color": "#636efa",
          "pattern": {
           "shape": ""
          }
         },
         "name": "",
         "offsetgroup": "",
         "orientation": "v",
         "showlegend": false,
         "textposition": "auto",
         "type": "bar",
         "x": [
          101,
          103,
          104,
          105,
          106,
          109,
          110
         ],
         "xaxis": "x",
         "y": [
          3000,
          1900,
          2500,
          1000,
          100,
          800,
          2000
         ],
         "yaxis": "y"
        }
       ],
       "layout": {
        "barmode": "relative",
        "legend": {
         "tracegroupgap": 0
        },
        "template": {
         "data": {
          "bar": [
           {
            "error_x": {
             "color": "#2a3f5f"
            },
            "error_y": {
             "color": "#2a3f5f"
            },
            "marker": {
             "line": {
              "color": "#E5ECF6",
              "width": 0.5
             },
             "pattern": {
              "fillmode": "overlay",
              "size": 10,
              "solidity": 0.2
             }
            },
            "type": "bar"
           }
          ],
          "barpolar": [
           {
            "marker": {
             "line": {
              "color": "#E5ECF6",
              "width": 0.5
             },
             "pattern": {
              "fillmode": "overlay",
              "size": 10,
              "solidity": 0.2
             }
            },
            "type": "barpolar"
           }
          ],
          "carpet": [
           {
            "aaxis": {
             "endlinecolor": "#2a3f5f",
             "gridcolor": "white",
             "linecolor": "white",
             "minorgridcolor": "white",
             "startlinecolor": "#2a3f5f"
            },
            "baxis": {
             "endlinecolor": "#2a3f5f",
             "gridcolor": "white",
             "linecolor": "white",
             "minorgridcolor": "white",
             "startlinecolor": "#2a3f5f"
            },
            "type": "carpet"
           }
          ],
          "choropleth": [
           {
            "colorbar": {
             "outlinewidth": 0,
             "ticks": ""
            },
            "type": "choropleth"
           }
          ],
          "contour": [
           {
            "colorbar": {
             "outlinewidth": 0,
             "ticks": ""
            },
            "colorscale": [
             [
              0,
              "#0d0887"
             ],
             [
              0.1111111111111111,
              "#46039f"
             ],
             [
              0.2222222222222222,
              "#7201a8"
             ],
             [
              0.3333333333333333,
              "#9c179e"
             ],
             [
              0.4444444444444444,
              "#bd3786"
             ],
             [
              0.5555555555555556,
              "#d8576b"
             ],
             [
              0.6666666666666666,
              "#ed7953"
             ],
             [
              0.7777777777777778,
              "#fb9f3a"
             ],
             [
              0.8888888888888888,
              "#fdca26"
             ],
             [
              1,
              "#f0f921"
             ]
            ],
            "type": "contour"
           }
          ],
          "contourcarpet": [
           {
            "colorbar": {
             "outlinewidth": 0,
             "ticks": ""
            },
            "type": "contourcarpet"
           }
          ],
          "heatmap": [
           {
            "colorbar": {
             "outlinewidth": 0,
             "ticks": ""
            },
            "colorscale": [
             [
              0,
              "#0d0887"
             ],
             [
              0.1111111111111111,
              "#46039f"
             ],
             [
              0.2222222222222222,
              "#7201a8"
             ],
             [
              0.3333333333333333,
              "#9c179e"
             ],
             [
              0.4444444444444444,
              "#bd3786"
             ],
             [
              0.5555555555555556,
              "#d8576b"
             ],
             [
              0.6666666666666666,
              "#ed7953"
             ],
             [
              0.7777777777777778,
              "#fb9f3a"
             ],
             [
              0.8888888888888888,
              "#fdca26"
             ],
             [
              1,
              "#f0f921"
             ]
            ],
            "type": "heatmap"
           }
          ],
          "heatmapgl": [
           {
            "colorbar": {
             "outlinewidth": 0,
             "ticks": ""
            },
            "colorscale": [
             [
              0,
              "#0d0887"
             ],
             [
              0.1111111111111111,
              "#46039f"
             ],
             [
              0.2222222222222222,
              "#7201a8"
             ],
             [
              0.3333333333333333,
              "#9c179e"
             ],
             [
              0.4444444444444444,
              "#bd3786"
             ],
             [
              0.5555555555555556,
              "#d8576b"
             ],
             [
              0.6666666666666666,
              "#ed7953"
             ],
             [
              0.7777777777777778,
              "#fb9f3a"
             ],
             [
              0.8888888888888888,
              "#fdca26"
             ],
             [
              1,
              "#f0f921"
             ]
            ],
            "type": "heatmapgl"
           }
          ],
          "histogram": [
           {
            "marker": {
             "pattern": {
              "fillmode": "overlay",
              "size": 10,
              "solidity": 0.2
             }
            },
            "type": "histogram"
           }
          ],
          "histogram2d": [
           {
            "colorbar": {
             "outlinewidth": 0,
             "ticks": ""
            },
            "colorscale": [
             [
              0,
              "#0d0887"
             ],
             [
              0.1111111111111111,
              "#46039f"
             ],
             [
              0.2222222222222222,
              "#7201a8"
             ],
             [
              0.3333333333333333,
              "#9c179e"
             ],
             [
              0.4444444444444444,
              "#bd3786"
             ],
             [
              0.5555555555555556,
              "#d8576b"
             ],
             [
              0.6666666666666666,
              "#ed7953"
             ],
             [
              0.7777777777777778,
              "#fb9f3a"
             ],
             [
              0.8888888888888888,
              "#fdca26"
             ],
             [
              1,
              "#f0f921"
             ]
            ],
            "type": "histogram2d"
           }
          ],
          "histogram2dcontour": [
           {
            "colorbar": {
             "outlinewidth": 0,
             "ticks": ""
            },
            "colorscale": [
             [
              0,
              "#0d0887"
             ],
             [
              0.1111111111111111,
              "#46039f"
             ],
             [
              0.2222222222222222,
              "#7201a8"
             ],
             [
              0.3333333333333333,
              "#9c179e"
             ],
             [
              0.4444444444444444,
              "#bd3786"
             ],
             [
              0.5555555555555556,
              "#d8576b"
             ],
             [
              0.6666666666666666,
              "#ed7953"
             ],
             [
              0.7777777777777778,
              "#fb9f3a"
             ],
             [
              0.8888888888888888,
              "#fdca26"
             ],
             [
              1,
              "#f0f921"
             ]
            ],
            "type": "histogram2dcontour"
           }
          ],
          "mesh3d": [
           {
            "colorbar": {
             "outlinewidth": 0,
             "ticks": ""
            },
            "type": "mesh3d"
           }
          ],
          "parcoords": [
           {
            "line": {
             "colorbar": {
              "outlinewidth": 0,
              "ticks": ""
             }
            },
            "type": "parcoords"
           }
          ],
          "pie": [
           {
            "automargin": true,
            "type": "pie"
           }
          ],
          "scatter": [
           {
            "fillpattern": {
             "fillmode": "overlay",
             "size": 10,
             "solidity": 0.2
            },
            "type": "scatter"
           }
          ],
          "scatter3d": [
           {
            "line": {
             "colorbar": {
              "outlinewidth": 0,
              "ticks": ""
             }
            },
            "marker": {
             "colorbar": {
              "outlinewidth": 0,
              "ticks": ""
             }
            },
            "type": "scatter3d"
           }
          ],
          "scattercarpet": [
           {
            "marker": {
             "colorbar": {
              "outlinewidth": 0,
              "ticks": ""
             }
            },
            "type": "scattercarpet"
           }
          ],
          "scattergeo": [
           {
            "marker": {
             "colorbar": {
              "outlinewidth": 0,
              "ticks": ""
             }
            },
            "type": "scattergeo"
           }
          ],
          "scattergl": [
           {
            "marker": {
             "colorbar": {
              "outlinewidth": 0,
              "ticks": ""
             }
            },
            "type": "scattergl"
           }
          ],
          "scattermapbox": [
           {
            "marker": {
             "colorbar": {
              "outlinewidth": 0,
              "ticks": ""
             }
            },
            "type": "scattermapbox"
           }
          ],
          "scatterpolar": [
           {
            "marker": {
             "colorbar": {
              "outlinewidth": 0,
              "ticks": ""
             }
            },
            "type": "scatterpolar"
           }
          ],
          "scatterpolargl": [
           {
            "marker": {
             "colorbar": {
              "outlinewidth": 0,
              "ticks": ""
             }
            },
            "type": "scatterpolargl"
           }
          ],
          "scatterternary": [
           {
            "marker": {
             "colorbar": {
              "outlinewidth": 0,
              "ticks": ""
             }
            },
            "type": "scatterternary"
           }
          ],
          "surface": [
           {
            "colorbar": {
             "outlinewidth": 0,
             "ticks": ""
            },
            "colorscale": [
             [
              0,
              "#0d0887"
             ],
             [
              0.1111111111111111,
              "#46039f"
             ],
             [
              0.2222222222222222,
              "#7201a8"
             ],
             [
              0.3333333333333333,
              "#9c179e"
             ],
             [
              0.4444444444444444,
              "#bd3786"
             ],
             [
              0.5555555555555556,
              "#d8576b"
             ],
             [
              0.6666666666666666,
              "#ed7953"
             ],
             [
              0.7777777777777778,
              "#fb9f3a"
             ],
             [
              0.8888888888888888,
              "#fdca26"
             ],
             [
              1,
              "#f0f921"
             ]
            ],
            "type": "surface"
           }
          ],
          "table": [
           {
            "cells": {
             "fill": {
              "color": "#EBF0F8"
             },
             "line": {
              "color": "white"
             }
            },
            "header": {
             "fill": {
              "color": "#C8D4E3"
             },
             "line": {
              "color": "white"
             }
            },
            "type": "table"
           }
          ]
         },
         "layout": {
          "annotationdefaults": {
           "arrowcolor": "#2a3f5f",
           "arrowhead": 0,
           "arrowwidth": 1
          },
          "autotypenumbers": "strict",
          "coloraxis": {
           "colorbar": {
            "outlinewidth": 0,
            "ticks": ""
           }
          },
          "colorscale": {
           "diverging": [
            [
             0,
             "#8e0152"
            ],
            [
             0.1,
             "#c51b7d"
            ],
            [
             0.2,
             "#de77ae"
            ],
            [
             0.3,
             "#f1b6da"
            ],
            [
             0.4,
             "#fde0ef"
            ],
            [
             0.5,
             "#f7f7f7"
            ],
            [
             0.6,
             "#e6f5d0"
            ],
            [
             0.7,
             "#b8e186"
            ],
            [
             0.8,
             "#7fbc41"
            ],
            [
             0.9,
             "#4d9221"
            ],
            [
             1,
             "#276419"
            ]
           ],
           "sequential": [
            [
             0,
             "#0d0887"
            ],
            [
             0.1111111111111111,
             "#46039f"
            ],
            [
             0.2222222222222222,
             "#7201a8"
            ],
            [
             0.3333333333333333,
             "#9c179e"
            ],
            [
             0.4444444444444444,
             "#bd3786"
            ],
            [
             0.5555555555555556,
             "#d8576b"
            ],
            [
             0.6666666666666666,
             "#ed7953"
            ],
            [
             0.7777777777777778,
             "#fb9f3a"
            ],
            [
             0.8888888888888888,
             "#fdca26"
            ],
            [
             1,
             "#f0f921"
            ]
           ],
           "sequentialminus": [
            [
             0,
             "#0d0887"
            ],
            [
             0.1111111111111111,
             "#46039f"
            ],
            [
             0.2222222222222222,
             "#7201a8"
            ],
            [
             0.3333333333333333,
             "#9c179e"
            ],
            [
             0.4444444444444444,
             "#bd3786"
            ],
            [
             0.5555555555555556,
             "#d8576b"
            ],
            [
             0.6666666666666666,
             "#ed7953"
            ],
            [
             0.7777777777777778,
             "#fb9f3a"
            ],
            [
             0.8888888888888888,
             "#fdca26"
            ],
            [
             1,
             "#f0f921"
            ]
           ]
          },
          "colorway": [
           "#636efa",
           "#EF553B",
           "#00cc96",
           "#ab63fa",
           "#FFA15A",
           "#19d3f3",
           "#FF6692",
           "#B6E880",
           "#FF97FF",
           "#FECB52"
          ],
          "font": {
           "color": "#2a3f5f"
          },
          "geo": {
           "bgcolor": "white",
           "lakecolor": "white",
           "landcolor": "#E5ECF6",
           "showlakes": true,
           "showland": true,
           "subunitcolor": "white"
          },
          "hoverlabel": {
           "align": "left"
          },
          "hovermode": "closest",
          "mapbox": {
           "style": "light"
          },
          "paper_bgcolor": "white",
          "plot_bgcolor": "#E5ECF6",
          "polar": {
           "angularaxis": {
            "gridcolor": "white",
            "linecolor": "white",
            "ticks": ""
           },
           "bgcolor": "#E5ECF6",
           "radialaxis": {
            "gridcolor": "white",
            "linecolor": "white",
            "ticks": ""
           }
          },
          "scene": {
           "xaxis": {
            "backgroundcolor": "#E5ECF6",
            "gridcolor": "white",
            "gridwidth": 2,
            "linecolor": "white",
            "showbackground": true,
            "ticks": "",
            "zerolinecolor": "white"
           },
           "yaxis": {
            "backgroundcolor": "#E5ECF6",
            "gridcolor": "white",
            "gridwidth": 2,
            "linecolor": "white",
            "showbackground": true,
            "ticks": "",
            "zerolinecolor": "white"
           },
           "zaxis": {
            "backgroundcolor": "#E5ECF6",
            "gridcolor": "white",
            "gridwidth": 2,
            "linecolor": "white",
            "showbackground": true,
            "ticks": "",
            "zerolinecolor": "white"
           }
          },
          "shapedefaults": {
           "line": {
            "color": "#2a3f5f"
           }
          },
          "ternary": {
           "aaxis": {
            "gridcolor": "white",
            "linecolor": "white",
            "ticks": ""
           },
           "baxis": {
            "gridcolor": "white",
            "linecolor": "white",
            "ticks": ""
           },
           "bgcolor": "#E5ECF6",
           "caxis": {
            "gridcolor": "white",
            "linecolor": "white",
            "ticks": ""
           }
          },
          "title": {
           "x": 0.05
          },
          "xaxis": {
           "automargin": true,
           "gridcolor": "white",
           "linecolor": "white",
           "ticks": "",
           "title": {
            "standoff": 15
           },
           "zerolinecolor": "white",
           "zerolinewidth": 2
          },
          "yaxis": {
           "automargin": true,
           "gridcolor": "white",
           "linecolor": "white",
           "ticks": "",
           "title": {
            "standoff": 15
           },
           "zerolinecolor": "white",
           "zerolinewidth": 2
          }
         }
        },
        "title": {
         "text": "Total Spend by Customer"
        },
        "xaxis": {
         "anchor": "y",
         "domain": [
          0,
          1
         ],
         "showticklabels": true,
         "tickangle": 45,
         "tickmode": "linear",
         "title": {
          "text": "Customer ID"
         }
        },
        "yaxis": {
         "anchor": "x",
         "domain": [
          0,
          1
         ],
         "title": {
          "text": "Total Amount"
         }
        }
       }
      },
      "image/png": "[encoded data removed]",
      "text/html": [
       "<div>                            <div id=\"bf08363b-c19c-463c-a383-d2ea7e984739\" class=\"plotly-graph-div\" style=\"height:525px; width:100%;\"></div>            <script type=\"text/javascript\">                require([\"plotly\"], function(Plotly) {                    window.PLOTLYENV=window.PLOTLYENV || {};                                    if (document.getElementById(\"bf08363b-c19c-463c-a383-d2ea7e984739\")) {                    Plotly.newPlot(                        \"bf08363b-c19c-463c-a383-d2ea7e984739\",                        [{\"alignmentgroup\":\"True\",\"hovertemplate\":\"customer_id=%{x}\\u003cbr\\u003eTotal Amount=%{y}\\u003cextra\\u003e\\u003c\\u002fextra\\u003e\",\"legendgroup\":\"\",\"marker\":{\"color\":\"#636efa\",\"pattern\":{\"shape\":\"\"}},\"name\":\"\",\"offsetgroup\":\"\",\"orientation\":\"v\",\"showlegend\":false,\"textposition\":\"auto\",\"x\":[101.0,103.0,104.0,105.0,106.0,109.0,110.0],\"xaxis\":\"x\",\"y\":[3000.0,1900.0,2500.0,1000.0,100.0,800.0,2000.0],\"yaxis\":\"y\",\"type\":\"bar\"}],                        {\"template\":{\"data\":{\"histogram2dcontour\":[{\"type\":\"histogram2dcontour\",\"colorbar\":{\"outlinewidth\":0,\"ticks\":\"\"},\"colorscale\":[[0.0,\"#0d0887\"],[0.1111111111111111,\"#46039f\"],[0.2222222222222222,\"#7201a8\"],[0.3333333333333333,\"#9c179e\"],[0.4444444444444444,\"#bd3786\"],[0.5555555555555556,\"#d8576b\"],[0.6666666666666666,\"#ed7953\"],[0.7777777777777778,\"#fb9f3a\"],[0.8888888888888888,\"#fdca26\"],[1.0,\"#f0f921\"]]}],\"choropleth\":[{\"type\":\"choropleth\",\"colorbar\":{\"outlinewidth\":0,\"ticks\":\"\"}}],\"histogram2d\":[{\"type\":\"histogram2d\",\"colorbar\":{\"outlinewidth\":0,\"ticks\":\"\"},\"colorscale\":[[0.0,\"#0d0887\"],[0.1111111111111111,\"#46039f\"],[0.2222222222222222,\"#7201a8\"],[0.3333333333333333,\"#9c179e\"],[0.4444444444444444,\"#bd3786\"],[0.5555555555555556,\"#d8576b\"],[0.6666666666666666,\"#ed7953\"],[0.7777777777777778,\"#fb9f3a\"],[0.8888888888888888,\"#fdca26\"],[1.0,\"#f0f921\"]]}],\"heatmap\":[{\"type\":\"heatmap\",\"colorbar\":{\"outlinewidth\":0,\"ticks\":\"\"},\"colorscale\":[[0.0,\"#0d0887\"],[0.1111111111111111,\"#46039f\"],[0.2222222222222222,\"#7201a8\"],[0.3333333333333333,\"#9c179e\"],[0.4444444444444444,\"#bd3786\"],[0.5555555555555556,\"#d8576b\"],[0.6666666666666666,\"#ed7953\"],[0.7777777777777778,\"#fb9f3a\"],[0.8888888888888888,\"#fdca26\"],[1.0,\"#f0f921\"]]}],\"heatmapgl\":[{\"type\":\"heatmapgl\",\"colorbar\":{\"outlinewidth\":0,\"ticks\":\"\"},\"colorscale\":[[0.0,\"#0d0887\"],[0.1111111111111111,\"#46039f\"],[0.2222222222222222,\"#7201a8\"],[0.3333333333333333,\"#9c179e\"],[0.4444444444444444,\"#bd3786\"],[0.5555555555555556,\"#d8576b\"],[0.6666666666666666,\"#ed7953\"],[0.7777777777777778,\"#fb9f3a\"],[0.8888888888888888,\"#fdca26\"],[1.0,\"#f0f921\"]]}],\"contourcarpet\":[{\"type\":\"contourcarpet\",\"colorbar\":{\"outlinewidth\":0,\"ticks\":\"\"}}],\"contour\":[{\"type\":\"contour\",\"colorbar\":{\"outlinewidth\":0,\"ticks\":\"\"},\"colorscale\":[[0.0,\"#0d0887\"],[0.1111111111111111,\"#46039f\"],[0.2222222222222222,\"#7201a8\"],[0.3333333333333333,\"#9c179e\"],[0.4444444444444444,\"#bd3786\"],[0.5555555555555556,\"#d8576b\"],[0.6666666666666666,\"#ed7953\"],[0.7777777777777778,\"#fb9f3a\"],[0.8888888888888888,\"#fdca26\"],[1.0,\"#f0f921\"]]}],\"surface\":[{\"type\":\"surface\",\"colorbar\":{\"outlinewidth\":0,\"ticks\":\"\"},\"colorscale\":[[0.0,\"#0d0887\"],[0.1111111111111111,\"#46039f\"],[0.2222222222222222,\"#7201a8\"],[0.3333333333333333,\"#9c179e\"],[0.4444444444444444,\"#bd3786\"],[0.5555555555555556,\"#d8576b\"],[0.6666666666666666,\"#ed7953\"],[0.7777777777777778,\"#fb9f3a\"],[0.8888888888888888,\"#fdca26\"],[1.0,\"#f0f921\"]]}],\"mesh3d\":[{\"type\":\"mesh3d\",\"colorbar\":{\"outlinewidth\":0,\"ticks\":\"\"}}],\"scatter\":[{\"fillpattern\":{\"fillmode\":\"overlay\",\"size\":10,\"solidity\":0.2},\"type\":\"scatter\"}],\"parcoords\":[{\"type\":\"parcoords\",\"line\":{\"colorbar\":{\"outlinewidth\":0,\"ticks\":\"\"}}}],\"scatterpolargl\":[{\"type\":\"scatterpolargl\",\"marker\":{\"colorbar\":{\"outlinewidth\":0,\"ticks\":\"\"}}}],\"bar\":[{\"error_x\":{\"color\":\"#2a3f5f\"},\"error_y\":{\"color\":\"#2a3f5f\"},\"marker\":{\"line\":{\"color\":\"#E5ECF6\",\"width\":0.5},\"pattern\":{\"fillmode\":\"overlay\",\"size\":10,\"solidity\":0.2}},\"type\":\"bar\"}],\"scattergeo\":[{\"type\":\"scattergeo\",\"marker\":{\"colorbar\":{\"outlinewidth\":0,\"ticks\":\"\"}}}],\"scatterpolar\":[{\"type\":\"scatterpolar\",\"marker\":{\"colorbar\":{\"outlinewidth\":0,\"ticks\":\"\"}}}],\"histogram\":[{\"marker\":{\"pattern\":{\"fillmode\":\"overlay\",\"size\":10,\"solidity\":0.2}},\"type\":\"histogram\"}],\"scattergl\":[{\"type\":\"scattergl\",\"marker\":{\"colorbar\":{\"outlinewidth\":0,\"ticks\":\"\"}}}],\"scatter3d\":[{\"type\":\"scatter3d\",\"line\":{\"colorbar\":{\"outlinewidth\":0,\"ticks\":\"\"}},\"marker\":{\"colorbar\":{\"outlinewidth\":0,\"ticks\":\"\"}}}],\"scattermapbox\":[{\"type\":\"scattermapbox\",\"marker\":{\"colorbar\":{\"outlinewidth\":0,\"ticks\":\"\"}}}],\"scatterternary\":[{\"type\":\"scatterternary\",\"marker\":{\"colorbar\":{\"outlinewidth\":0,\"ticks\":\"\"}}}],\"scattercarpet\":[{\"type\":\"scattercarpet\",\"marker\":{\"colorbar\":{\"outlinewidth\":0,\"ticks\":\"\"}}}],\"carpet\":[{\"aaxis\":{\"endlinecolor\":\"#2a3f5f\",\"gridcolor\":\"white\",\"linecolor\":\"white\",\"minorgridcolor\":\"white\",\"startlinecolor\":\"#2a3f5f\"},\"baxis\":{\"endlinecolor\":\"#2a3f5f\",\"gridcolor\":\"white\",\"linecolor\":\"white\",\"minorgridcolor\":\"white\",\"startlinecolor\":\"#2a3f5f\"},\"type\":\"carpet\"}],\"table\":[{\"cells\":{\"fill\":{\"color\":\"#EBF0F8\"},\"line\":{\"color\":\"white\"}},\"header\":{\"fill\":{\"color\":\"#C8D4E3\"},\"line\":{\"color\":\"white\"}},\"type\":\"table\"}],\"barpolar\":[{\"marker\":{\"line\":{\"color\":\"#E5ECF6\",\"width\":0.5},\"pattern\":{\"fillmode\":\"overlay\",\"size\":10,\"solidity\":0.2}},\"type\":\"barpolar\"}],\"pie\":[{\"automargin\":true,\"type\":\"pie\"}]},\"layout\":{\"autotypenumbers\":\"strict\",\"colorway\":[\"#636efa\",\"#EF553B\",\"#00cc96\",\"#ab63fa\",\"#FFA15A\",\"#19d3f3\",\"#FF6692\",\"#B6E880\",\"#FF97FF\",\"#FECB52\"],\"font\":{\"color\":\"#2a3f5f\"},\"hovermode\":\"closest\",\"hoverlabel\":{\"align\":\"left\"},\"paper_bgcolor\":\"white\",\"plot_bgcolor\":\"#E5ECF6\",\"polar\":{\"bgcolor\":\"#E5ECF6\",\"angularaxis\":{\"gridcolor\":\"white\",\"linecolor\":\"white\",\"ticks\":\"\"},\"radialaxis\":{\"gridcolor\":\"white\",\"linecolor\":\"white\",\"ticks\":\"\"}},\"ternary\":{\"bgcolor\":\"#E5ECF6\",\"aaxis\":{\"gridcolor\":\"white\",\"linecolor\":\"white\",\"ticks\":\"\"},\"baxis\":{\"gridcolor\":\"white\",\"linecolor\":\"white\",\"ticks\":\"\"},\"caxis\":{\"gridcolor\":\"white\",\"linecolor\":\"white\",\"ticks\":\"\"}},\"coloraxis\":{\"colorbar\":{\"outlinewidth\":0,\"ticks\":\"\"}},\"colorscale\":{\"sequential\":[[0.0,\"#0d0887\"],[0.1111111111111111,\"#46039f\"],[0.2222222222222222,\"#7201a8\"],[0.3333333333333333,\"#9c179e\"],[0.4444444444444444,\"#bd3786\"],[0.5555555555555556,\"#d8576b\"],[0.6666666666666666,\"#ed7953\"],[0.7777777777777778,\"#fb9f3a\"],[0.8888888888888888,\"#fdca26\"],[1.0,\"#f0f921\"]],\"sequentialminus\":[[0.0,\"#0d0887\"],[0.1111111111111111,\"#46039f\"],[0.2222222222222222,\"#7201a8\"],[0.3333333333333333,\"#9c179e\"],[0.4444444444444444,\"#bd3786\"],[0.5555555555555556,\"#d8576b\"],[0.6666666666666666,\"#ed7953\"],[0.7777777777777778,\"#fb9f3a\"],[0.8888888888888888,\"#fdca26\"],[1.0,\"#f0f921\"]],\"diverging\":[[0,\"#8e0152\"],[0.1,\"#c51b7d\"],[0.2,\"#de77ae\"],[0.3,\"#f1b6da\"],[0.4,\"#fde0ef\"],[0.5,\"#f7f7f7\"],[0.6,\"#e6f5d0\"],[0.7,\"#b8e186\"],[0.8,\"#7fbc41\"],[0.9,\"#4d9221\"],[1,\"#276419\"]]},\"xaxis\":{\"gridcolor\":\"white\",\"linecolor\":\"white\",\"ticks\":\"\",\"title\":{\"standoff\":15},\"zerolinecolor\":\"white\",\"automargin\":true,\"zerolinewidth\":2},\"yaxis\":{\"gridcolor\":\"white\",\"linecolor\":\"white\",\"ticks\":\"\",\"title\":{\"standoff\":15},\"zerolinecolor\":\"white\",\"automargin\":true,\"zerolinewidth\":2},\"scene\":{\"xaxis\":{\"backgroundcolor\":\"#E5ECF6\",\"gridcolor\":\"white\",\"linecolor\":\"white\",\"showbackground\":true,\"ticks\":\"\",\"zerolinecolor\":\"white\",\"gridwidth\":2},\"yaxis\":{\"backgroundcolor\":\"#E5ECF6\",\"gridcolor\":\"white\",\"linecolor\":\"white\",\"showbackground\":true,\"ticks\":\"\",\"zerolinecolor\":\"white\",\"gridwidth\":2},\"zaxis\":{\"backgroundcolor\":\"#E5ECF6\",\"gridcolor\":\"white\",\"linecolor\":\"white\",\"showbackground\":true,\"ticks\":\"\",\"zerolinecolor\":\"white\",\"gridwidth\":2}},\"shapedefaults\":{\"line\":{\"color\":\"#2a3f5f\"}},\"annotationdefaults\":{\"arrowcolor\":\"#2a3f5f\",\"arrowhead\":0,\"arrowwidth\":1},\"geo\":{\"bgcolor\":\"white\",\"landcolor\":\"#E5ECF6\",\"subunitcolor\":\"white\",\"showland\":true,\"showlakes\":true,\"lakecolor\":\"white\"},\"title\":{\"x\":0.05},\"mapbox\":{\"style\":\"light\"}}},\"xaxis\":{\"anchor\":\"y\",\"domain\":[0.0,1.0],\"title\":{\"text\":\"Customer ID\"},\"tickmode\":\"linear\",\"showticklabels\":true,\"tickangle\":45},\"yaxis\":{\"anchor\":\"x\",\"domain\":[0.0,1.0],\"title\":{\"text\":\"Total Amount\"}},\"legend\":{\"tracegroupgap\":0},\"title\":{\"text\":\"Total Spend by Customer\"},\"barmode\":\"relative\"},                        {\"responsive\": true}                    ).then(function(){\n",
       "                            \n",
       "var gd = document.getElementById('bf08363b-c19c-463c-a383-d2ea7e984739');\n",
       "var x = new MutationObserver(function (mutations, observer) {{\n",
       "        var display = window.getComputedStyle(gd).display;\n",
       "        if (!display || display === 'none') {{\n",
       "            console.log([gd, 'removed!']);\n",
       "            Plotly.purge(gd);\n",
       "            observer.disconnect();\n",
       "        }}\n",
       "}});\n",
       "\n",
       "// Listen for the removal of the full notebook cells\n",
       "var notebookContainer = gd.closest('#notebook-container');\n",
       "if (notebookContainer) {{\n",
       "    x.observe(notebookContainer, {childList: true});\n",
       "}}\n",
       "\n",
       "// Listen for the clearing of the current output cell\n",
       "var outputEl = gd.closest('.output');\n",
       "if (outputEl) {{\n",
       "    x.observe(outputEl, {childList: true});\n",
       "}}\n",
       "\n",
       "                        })                };                });            </script>        </div>"
      ]
     },
     "metadata": {},
     "output_type": "display_data"
    }
   ],
   "source": [
    "# Total spend by Customer using bar chart\n",
    "# Bar chart can show the total amount deposits by each customer, which can help you identify high-value customers.\n",
    "\n",
    "import plotly.express as px\n",
    "\n",
    "total_spent_by_customer = df_cleaned[df_cleaned['transaction_type'] == 'deposit'].groupby('customer_id')['amount'].sum()\n",
    "\n",
    "fig = px.bar(total_spent_by_customer, x=total_spent_by_customer.index, y=total_spent_by_customer.values, \n",
    "             title=\"Total Spend by Customer\", labels={\"x\": \"Customer ID\", \"y\": \"Total Amount\"})\n",
    "\n",
    "fig.update_layout(\n",
    "    xaxis={'tickmode': 'linear',  \n",
    "           'showticklabels': True,  \n",
    "           'tickangle': 45},  \n",
    "    xaxis_title=\"Customer ID\",  \n",
    "    yaxis_title=\"Total Amount\"  \n",
    ")\n",
    "\n",
    "fig.show()"
   ]
  },
  {
   "cell_type": "code",
   "execution_count": 34,
   "id": "c5c14f8c-bdeb-40dd-8667-704fd6b8b524",
   "metadata": {},
   "outputs": [
    {
     "name": "stdout",
     "output_type": "stream",
     "text": [
      "Cleaned data saved as 'cleaned_bank_transactions.csv'\n"
     ]
    }
   ],
   "source": [
    "df_cleaned.to_csv('cleaned_bank_transactions.csv', index=False)\n",
    "\n",
    "# Confirm the file was saved\n",
    "print(\"Cleaned data saved as 'cleaned_bank_transactions.csv'\")"
   ]
  }
 ],
 "metadata": {
  "kernelspec": {
   "display_name": "Python 3 (ipykernel)",
   "language": "python",
   "name": "python3"
  },
  "language_info": {
   "codemirror_mode": {
    "name": "ipython",
    "version": 3
   },
   "file_extension": ".py",
   "mimetype": "text/x-python",
   "name": "python",
   "nbconvert_exporter": "python",
   "pygments_lexer": "ipython3",
   "version": "3.12.7"
  }
 },
 "nbformat": 4,
 "nbformat_minor": 5
}
