{
 "cells": [
  {
   "cell_type": "code",
   "execution_count": null,
   "id": "ba5e8ca7-0887-40b6-8ad2-f353f237aa5f",
   "metadata": {},
   "outputs": [],
   "source": [
    "# 3. Analysis and Reporting"
   ]
  },
  {
   "cell_type": "code",
   "execution_count": null,
   "id": "277128f0-ab31-430d-ab4c-4760011a98e1",
   "metadata": {},
   "outputs": [],
   "source": [
    "import pandas as pd\n",
    "import numpy as np"
   ]
  },
  {
   "cell_type": "code",
   "execution_count": null,
   "id": "b572e02e-195b-4a83-a792-d8257f049850",
   "metadata": {},
   "outputs": [],
   "source": [
    "df_bank_transactions = pd.read_csv(r'C:\\Users\\Admin\\Desktop\\bank_transactions.csv', sep=',')\n",
    "df_bank_transactions"
   ]
  },
  {
   "cell_type": "code",
   "execution_count": null,
   "id": "84b3ae2f-28ec-44b7-bda1-7483959cf069",
   "metadata": {},
   "outputs": [],
   "source": [
    "# Total amount deposited by each customer in the first half of July 2025. \n",
    "deposits_per_customer = df_cleaned[df_cleaned['transaction_type'] == 'deposit']\n",
    "total_deposits_per_customer = deposits_per_customer.groupby('customer_id')['amount'].sum()\n",
    "\n",
    "for customer_id, total_deposit in total_deposits_per_customer.items():\n",
    "    total_deposit_int = int(total_deposit)\n",
    "    print(f\"The total deposit for customer {customer_id} is {total_deposit_int} EUR.\")"
   ]
  },
  {
   "cell_type": "code",
   "execution_count": null,
   "id": "8e7d141b-d06e-410b-a047-510bd3fb281a",
   "metadata": {},
   "outputs": [],
   "source": [
    "# Average transaction amount in the first half of July 2025. \n",
    "average_transaction_amount = df_cleaned['amount'].mean()\n",
    "\n",
    "average_transaction_amount_rounded = round(average_transaction_amount, 2)\n",
    "\n",
    "print(f\"Average transaction amount: {average_transaction_amount_rounded} EUR\")"
   ]
  },
  {
   "cell_type": "code",
   "execution_count": null,
   "id": "53d90532-fb4b-460e-adf6-43a75acc62c2",
   "metadata": {},
   "outputs": [],
   "source": [
    "# I want to create a pivot table to show a amount of deposit and withdrawal for each date and customer. \n",
    "\n",
    "pivot_table = (\n",
    "        df_cleaned\n",
    "        .pivot_table(index=['customer_id', 'transaction_date'], columns='transaction_type', aggfunc={'amount':['sum']}, fill_value=0)\n",
    "        .droplevel(0, axis='columns')\n",
    ")\n",
    "\n",
    "print(pivot_table)"
   ]
  },
  {
   "cell_type": "code",
   "execution_count": null,
   "id": "d3944b37-98ea-4e0c-b500-955581049292",
   "metadata": {},
   "outputs": [],
   "source": [
    "# Visualization"
   ]
  },
  {
   "cell_type": "code",
   "execution_count": null,
   "id": "330dd954-0b38-41d5-9504-d30c70785bd7",
   "metadata": {},
   "outputs": [],
   "source": [
    "# Total spend by Customer using bar chart\n",
    "# Bar chart can show the total amount deposits by each customer, which can help you identify high-value customers.\n",
    "\n",
    "import plotly.express as px\n",
    "\n",
    "total_spent_by_customer = df_cleaned[df_cleaned['transaction_type'] == 'deposit'].groupby('customer_id')['amount'].sum()\n",
    "\n",
    "fig = px.bar(total_spent_by_customer, x=total_spent_by_customer.index, y=total_spent_by_customer.values, \n",
    "             title=\"Total Spend by Customer\", labels={\"x\": \"Customer ID\", \"y\": \"Total Amount\"})\n",
    "\n",
    "fig.update_layout(\n",
    "    xaxis={'tickmode': 'linear',  \n",
    "           'showticklabels': True,  \n",
    "           'tickangle': 45},  \n",
    "    xaxis_title=\"Customer ID\",  \n",
    "    yaxis_title=\"Total Amount\"  \n",
    ")\n",
    "\n",
    "fig.show()"
   ]
  }
 ],
 "metadata": {
  "kernelspec": {
   "display_name": "Python 3 (ipykernel)",
   "language": "python",
   "name": "python3"
  },
  "language_info": {
   "codemirror_mode": {
    "name": "ipython",
    "version": 3
   },
   "file_extension": ".py",
   "mimetype": "text/x-python",
   "name": "python",
   "nbconvert_exporter": "python",
   "pygments_lexer": "ipython3",
   "version": "3.12.7"
  }
 },
 "nbformat": 4,
 "nbformat_minor": 5
}
