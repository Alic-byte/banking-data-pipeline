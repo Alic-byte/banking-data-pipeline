{
 "cells": [
  {
   "cell_type": "code",
   "execution_count": null,
   "id": "74234ac0-aa6c-4390-8450-8dbed867b755",
   "metadata": {},
   "outputs": [],
   "source": [
    "# 2. Cleaning data"
   ]
  },
  {
   "cell_type": "code",
   "execution_count": null,
   "id": "39681348-e5b0-464c-8445-2541904f5fc6",
   "metadata": {},
   "outputs": [],
   "source": [
    "import pandas as pd\n",
    "import numpy as np"
   ]
  },
  {
   "cell_type": "code",
   "execution_count": null,
   "id": "a8945b01-cfe5-4f72-8403-dc2ce69af338",
   "metadata": {},
   "outputs": [],
   "source": [
    "df_bank_transactions = pd.read_csv(r'C:\\Users\\Admin\\Desktop\\bank_transactions.csv', sep=',')\n",
    "df_bank_transactions"
   ]
  },
  {
   "cell_type": "code",
   "execution_count": null,
   "id": "410d140a-bb2e-48a9-8e78-5cc77a04a881",
   "metadata": {},
   "outputs": [],
   "source": [
    "# I need to find out how many missing numbers are in each column using isnull()\n",
    "print(df_bank_transactions.isnull().sum())"
   ]
  },
  {
   "cell_type": "code",
   "execution_count": null,
   "id": "b096bf68-443d-42bb-8a34-a2b46f67d256",
   "metadata": {},
   "outputs": [],
   "source": [
    "# I need to remove the rows where the data are missing using dropna()\n",
    "df_cleaned = df_bank_transactions.dropna()\n",
    "df_cleaned"
   ]
  },
  {
   "cell_type": "code",
   "execution_count": null,
   "id": "623f4712-8fc4-4a96-bacd-348197011e80",
   "metadata": {},
   "outputs": [],
   "source": [
    "# I need to verify the cleaned data.\n",
    "print(df_cleaned.isnull().sum())"
   ]
  },
  {
   "cell_type": "code",
   "execution_count": null,
   "id": "52363660-3f6f-4aa4-a390-30a29fee56cf",
   "metadata": {},
   "outputs": [],
   "source": [
    "# After using dropna(). There should be 17 entries, not 20. \n",
    "row_count = len(df_cleaned)\n",
    "print(f\"Number of rows: {row_count}\")"
   ]
  },
  {
   "cell_type": "code",
   "execution_count": null,
   "id": "320703d9-f8ae-40fd-929c-da1c2caad817",
   "metadata": {},
   "outputs": [],
   "source": [
    "df_cleaned"
   ]
  },
  {
   "cell_type": "code",
   "execution_count": null,
   "id": "42e47d23-b7ff-47aa-9526-aa103822dec3",
   "metadata": {},
   "outputs": [],
   "source": [
    "# I need to check whether there are duplicates in the transaction_id column. \n",
    "duplicates = df_cleaned[df_cleaned.duplicated(subset=['transaction_id'])]\n",
    "print(duplicates)"
   ]
  },
  {
   "cell_type": "code",
   "execution_count": null,
   "id": "a9939583-1bbd-493d-a193-662f4e3f3419",
   "metadata": {},
   "outputs": [],
   "source": [
    "# I need to check the whether each column has the same format. \n",
    "df_cleaned.info()"
   ]
  },
  {
   "cell_type": "code",
   "execution_count": null,
   "id": "94cbe804-febd-41ab-961e-2f30a4d7db94",
   "metadata": {},
   "outputs": [],
   "source": [
    "# I need to check whether the amounts in the column \"amount\" have all positive amounts. \n",
    "# Firstly, I need to filter the negative amounts in the \"amount\" column. \n",
    "negative_amounts = df_cleaned[df_cleaned['amount'] < 0]\n",
    "print(negative_amounts)"
   ]
  },
  {
   "cell_type": "code",
   "execution_count": null,
   "id": "ac70a5aa-ae05-4e20-b7ea-28b2f3f66895",
   "metadata": {},
   "outputs": [],
   "source": [
    "# I want to convert the negative amount to positive using absolute value function. \n",
    "df_cleaned.loc[:, 'amount'] = df_cleaned.loc[:,'amount'].abs()\n",
    "df_cleaned"
   ]
  },
  {
   "cell_type": "code",
   "execution_count": null,
   "id": "3d2861b5-0f16-4912-8fc9-a2a5be416100",
   "metadata": {},
   "outputs": [],
   "source": [
    "# It seems that the transaction_date column contains different formats. I need to convert the dates to a uniform format\n",
    "# using \"pd.to_datetime()\"\n",
    "# I need to use \".loc\" because it explicitly assign values to a column in a DataFrame ensuring that I'm modifiyng the original DataFrame. Otherwise the warning occurs, informing that I'm modyfiyng a view. \n",
    "# I need to use \":, 'transaction_date'\". This means that I'm selecting the whole column. \n",
    "\n",
    "df_cleaned.loc[:, 'transaction_date'] = pd.to_datetime(\n",
    "    df_cleaned.loc[:,'transaction_date'],\n",
    "    format='%Y-%m-%d',\n",
    "    errors='coerce'\n",
    ")"
   ]
  },
  {
   "cell_type": "code",
   "execution_count": null,
   "id": "c33974ef-7677-4449-adbc-8d851b288c6a",
   "metadata": {},
   "outputs": [],
   "source": [
    "# I need to verify whether the inserted date has correct format. It should be datetime64[ns]. \n",
    "print(df_cleaned['transaction_date'].dtype)"
   ]
  },
  {
   "cell_type": "code",
   "execution_count": null,
   "id": "6c7fdae7-038f-4552-8355-df9a03049952",
   "metadata": {},
   "outputs": [],
   "source": [
    "df_cleaned"
   ]
  },
  {
   "cell_type": "code",
   "execution_count": null,
   "id": "aa784daa-61ed-4cdf-bd62-e7f8c85be2f2",
   "metadata": {},
   "outputs": [],
   "source": [
    "# I want to get rid of the \"failed\" status using filter out the rows where the \"status\" is failed. \n",
    "df_cleaned = df_cleaned[df_cleaned['status'] != 'failed']\n",
    "df_cleaned"
   ]
  },
  {
   "cell_type": "code",
   "execution_count": null,
   "id": "b9f8fc5b-57db-4598-84a4-c185d4b39a3e",
   "metadata": {},
   "outputs": [],
   "source": [
    "# I need to check whether the formats in columns are correct. \n",
    "print(df_cleaned.dtypes)"
   ]
  },
  {
   "cell_type": "code",
   "execution_count": null,
   "id": "55c6369a-c727-4759-9024-fd20bdb5f5db",
   "metadata": {},
   "outputs": [],
   "source": [
    "# As the transaction type (text) is object, I would like to change to format string. \n",
    "df_cleaned.loc[:,'transaction_type'] = df_cleaned.loc[:,'transaction_type'].astype('string')\n",
    "print(df_cleaned['transaction_type'].dtype)"
   ]
  },
  {
   "cell_type": "code",
   "execution_count": null,
   "id": "9e5a6537-2426-4710-857d-46fcd2eafc21",
   "metadata": {},
   "outputs": [],
   "source": [
    "# As the customer_id is float64, I would like to change to format int64.\n",
    "df_cleaned.loc[:, 'customer_id'] = df_cleaned.loc[:, 'customer_id'].apply(lambda x: int(x))\n",
    "\n",
    "# Verify the change\n",
    "print(df_cleaned['customer_id'].dtype)"
   ]
  },
  {
   "cell_type": "code",
   "execution_count": null,
   "id": "0fc890f8-d05a-42c5-ab8e-e9ca42876cb1",
   "metadata": {},
   "outputs": [],
   "source": [
    "# As the status (text) is object, I would like to change to format string. But \n",
    "df_cleaned.loc[:, 'status'] = df_cleaned.loc[:,'status'].astype(pd.StringDtype())\n",
    "\n",
    "# Verify the change\n",
    "print(df_cleaned['status'].dtype)  # Should print 'string'"
   ]
  },
  {
   "cell_type": "code",
   "execution_count": null,
   "id": "529f02af-b12c-499c-a29d-23c156b646a3",
   "metadata": {},
   "outputs": [],
   "source": [
    "print(df_cleaned.dtypes)"
   ]
  }
 ],
 "metadata": {
  "kernelspec": {
   "display_name": "Python 3 (ipykernel)",
   "language": "python",
   "name": "python3"
  },
  "language_info": {
   "codemirror_mode": {
    "name": "ipython",
    "version": 3
   },
   "file_extension": ".py",
   "mimetype": "text/x-python",
   "name": "python",
   "nbconvert_exporter": "python",
   "pygments_lexer": "ipython3",
   "version": "3.12.7"
  }
 },
 "nbformat": 4,
 "nbformat_minor": 5
}
